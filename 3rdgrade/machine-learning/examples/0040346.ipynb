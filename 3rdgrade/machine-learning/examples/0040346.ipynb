{
  "cells": [
    {
      "cell_type": "markdown",
      "id": "1a404d9a",
      "metadata": {
        "id": "1a404d9a"
      },
      "source": [
        "<font size = 6> Линейная регрессия"
      ]
    },
    {
      "cell_type": "markdown",
      "source": [
        "Выполнил:\n",
        "Иванов Роман Ильич\n",
        "ММБ-004"
      ],
      "metadata": {
        "id": "vzj6HFpBkP-E"
      },
      "id": "vzj6HFpBkP-E"
    },
    {
      "cell_type": "markdown",
      "id": "7b20ce34",
      "metadata": {
        "id": "7b20ce34"
      },
      "source": [
        "Цель работы — предсказание стоимости коттеджа по его площади и другим\n",
        "характеристик с помощью линейной модели регрессионного анализа."
      ]
    },
    {
      "cell_type": "markdown",
      "id": "d44393ed",
      "metadata": {
        "id": "d44393ed"
      },
      "source": [
        "<font size = 4> Описание переменных"
      ]
    },
    {
      "cell_type": "markdown",
      "id": "e9752d2e",
      "metadata": {
        "id": "e9752d2e"
      },
      "source": [
        "PRICE — стоимость коттеджа в тысячах долларов США.\n",
        "\n",
        "HOUSE — площадь коттеджа в квадратных метрах.\n",
        "\n",
        "AREA — площадь участка в сотках.\n",
        "\n",
        "DIST — расстояние от расположения коттеджа до кольцевой автомобильной дороги в\n",
        "километрах.\n",
        "\n",
        "ECO — индикатор, принимающий значение 1, если рядом с коттеджем есть река или\n",
        "озеро, и значение 0 в противном случае."
      ]
    },
    {
      "cell_type": "markdown",
      "id": "f63332f6",
      "metadata": {
        "id": "f63332f6"
      },
      "source": [
        "# Введение"
      ]
    },
    {
      "cell_type": "markdown",
      "source": [
        "Импортируем нужные нам библиотеки"
      ],
      "metadata": {
        "id": "LUjxcL6zkn3k"
      },
      "id": "LUjxcL6zkn3k"
    },
    {
      "cell_type": "code",
      "execution_count": null,
      "id": "dfef24b7",
      "metadata": {
        "id": "dfef24b7"
      },
      "outputs": [],
      "source": [
        "import pandas as pd\n",
        "import numpy as np\n",
        "import matplotlib.pyplot as plt\n",
        "import seaborn as sns\n",
        "\n",
        "import math\n",
        "import scipy\n",
        "\n",
        "from sklearn.model_selection import train_test_split\n",
        "from sklearn.metrics import mean_absolute_percentage_error, r2_score, explained_variance_score, mean_squared_error, mean_absolute_error\n",
        "from sklearn.linear_model import LinearRegression"
      ]
    },
    {
      "cell_type": "markdown",
      "source": [
        "Загрузим данные"
      ],
      "metadata": {
        "id": "h91kebKKktvm"
      },
      "id": "h91kebKKktvm"
    },
    {
      "cell_type": "code",
      "execution_count": null,
      "id": "480cc3ce",
      "metadata": {
        "colab": {
          "base_uri": "https://localhost:8080/"
        },
        "id": "480cc3ce",
        "outputId": "4a11c641-46e3-4cbf-bf27-d5450b249ea0"
      },
      "outputs": [
        {
          "output_type": "stream",
          "name": "stderr",
          "text": [
            "/usr/local/lib/python3.10/dist-packages/openpyxl/worksheet/header_footer.py:48: UserWarning: Cannot parse header or footer so it will be ignored\n",
            "  warn(\"\"\"Cannot parse header or footer so it will be ignored\"\"\")\n"
          ]
        }
      ],
      "source": [
        "df = pd.read_excel(\"ML.ds3.xlsx\", \"V(46)\", header=1)"
      ]
    },
    {
      "cell_type": "markdown",
      "source": [
        "Выведем часть данных"
      ],
      "metadata": {
        "id": "tEY9N1MokyMh"
      },
      "id": "tEY9N1MokyMh"
    },
    {
      "cell_type": "code",
      "execution_count": null,
      "id": "026c84a8",
      "metadata": {
        "colab": {
          "base_uri": "https://localhost:8080/",
          "height": 206
        },
        "id": "026c84a8",
        "outputId": "34b1a373-bc4f-4db9-acda-119ef713e2de"
      },
      "outputs": [
        {
          "output_type": "execute_result",
          "data": {
            "text/plain": [
              "   Price  House  Area  Dist  Eco\n",
              "0   17.0     56   8.0  85.0    0\n",
              "1   30.0     80   8.0  25.0    1\n",
              "2  220.0    500  40.0  26.0    1\n",
              "3   95.0    530  19.0  23.0    0\n",
              "4   45.0    350   7.0  25.0    0"
            ],
            "text/html": [
              "\n",
              "  <div id=\"df-be64eefa-b5ff-4a70-9418-510d454f562d\">\n",
              "    <div class=\"colab-df-container\">\n",
              "      <div>\n",
              "<style scoped>\n",
              "    .dataframe tbody tr th:only-of-type {\n",
              "        vertical-align: middle;\n",
              "    }\n",
              "\n",
              "    .dataframe tbody tr th {\n",
              "        vertical-align: top;\n",
              "    }\n",
              "\n",
              "    .dataframe thead th {\n",
              "        text-align: right;\n",
              "    }\n",
              "</style>\n",
              "<table border=\"1\" class=\"dataframe\">\n",
              "  <thead>\n",
              "    <tr style=\"text-align: right;\">\n",
              "      <th></th>\n",
              "      <th>Price</th>\n",
              "      <th>House</th>\n",
              "      <th>Area</th>\n",
              "      <th>Dist</th>\n",
              "      <th>Eco</th>\n",
              "    </tr>\n",
              "  </thead>\n",
              "  <tbody>\n",
              "    <tr>\n",
              "      <th>0</th>\n",
              "      <td>17.0</td>\n",
              "      <td>56</td>\n",
              "      <td>8.0</td>\n",
              "      <td>85.0</td>\n",
              "      <td>0</td>\n",
              "    </tr>\n",
              "    <tr>\n",
              "      <th>1</th>\n",
              "      <td>30.0</td>\n",
              "      <td>80</td>\n",
              "      <td>8.0</td>\n",
              "      <td>25.0</td>\n",
              "      <td>1</td>\n",
              "    </tr>\n",
              "    <tr>\n",
              "      <th>2</th>\n",
              "      <td>220.0</td>\n",
              "      <td>500</td>\n",
              "      <td>40.0</td>\n",
              "      <td>26.0</td>\n",
              "      <td>1</td>\n",
              "    </tr>\n",
              "    <tr>\n",
              "      <th>3</th>\n",
              "      <td>95.0</td>\n",
              "      <td>530</td>\n",
              "      <td>19.0</td>\n",
              "      <td>23.0</td>\n",
              "      <td>0</td>\n",
              "    </tr>\n",
              "    <tr>\n",
              "      <th>4</th>\n",
              "      <td>45.0</td>\n",
              "      <td>350</td>\n",
              "      <td>7.0</td>\n",
              "      <td>25.0</td>\n",
              "      <td>0</td>\n",
              "    </tr>\n",
              "  </tbody>\n",
              "</table>\n",
              "</div>\n",
              "      <button class=\"colab-df-convert\" onclick=\"convertToInteractive('df-be64eefa-b5ff-4a70-9418-510d454f562d')\"\n",
              "              title=\"Convert this dataframe to an interactive table.\"\n",
              "              style=\"display:none;\">\n",
              "        \n",
              "  <svg xmlns=\"http://www.w3.org/2000/svg\" height=\"24px\"viewBox=\"0 0 24 24\"\n",
              "       width=\"24px\">\n",
              "    <path d=\"M0 0h24v24H0V0z\" fill=\"none\"/>\n",
              "    <path d=\"M18.56 5.44l.94 2.06.94-2.06 2.06-.94-2.06-.94-.94-2.06-.94 2.06-2.06.94zm-11 1L8.5 8.5l.94-2.06 2.06-.94-2.06-.94L8.5 2.5l-.94 2.06-2.06.94zm10 10l.94 2.06.94-2.06 2.06-.94-2.06-.94-.94-2.06-.94 2.06-2.06.94z\"/><path d=\"M17.41 7.96l-1.37-1.37c-.4-.4-.92-.59-1.43-.59-.52 0-1.04.2-1.43.59L10.3 9.45l-7.72 7.72c-.78.78-.78 2.05 0 2.83L4 21.41c.39.39.9.59 1.41.59.51 0 1.02-.2 1.41-.59l7.78-7.78 2.81-2.81c.8-.78.8-2.07 0-2.86zM5.41 20L4 18.59l7.72-7.72 1.47 1.35L5.41 20z\"/>\n",
              "  </svg>\n",
              "      </button>\n",
              "      \n",
              "  <style>\n",
              "    .colab-df-container {\n",
              "      display:flex;\n",
              "      flex-wrap:wrap;\n",
              "      gap: 12px;\n",
              "    }\n",
              "\n",
              "    .colab-df-convert {\n",
              "      background-color: #E8F0FE;\n",
              "      border: none;\n",
              "      border-radius: 50%;\n",
              "      cursor: pointer;\n",
              "      display: none;\n",
              "      fill: #1967D2;\n",
              "      height: 32px;\n",
              "      padding: 0 0 0 0;\n",
              "      width: 32px;\n",
              "    }\n",
              "\n",
              "    .colab-df-convert:hover {\n",
              "      background-color: #E2EBFA;\n",
              "      box-shadow: 0px 1px 2px rgba(60, 64, 67, 0.3), 0px 1px 3px 1px rgba(60, 64, 67, 0.15);\n",
              "      fill: #174EA6;\n",
              "    }\n",
              "\n",
              "    [theme=dark] .colab-df-convert {\n",
              "      background-color: #3B4455;\n",
              "      fill: #D2E3FC;\n",
              "    }\n",
              "\n",
              "    [theme=dark] .colab-df-convert:hover {\n",
              "      background-color: #434B5C;\n",
              "      box-shadow: 0px 1px 3px 1px rgba(0, 0, 0, 0.15);\n",
              "      filter: drop-shadow(0px 1px 2px rgba(0, 0, 0, 0.3));\n",
              "      fill: #FFFFFF;\n",
              "    }\n",
              "  </style>\n",
              "\n",
              "      <script>\n",
              "        const buttonEl =\n",
              "          document.querySelector('#df-be64eefa-b5ff-4a70-9418-510d454f562d button.colab-df-convert');\n",
              "        buttonEl.style.display =\n",
              "          google.colab.kernel.accessAllowed ? 'block' : 'none';\n",
              "\n",
              "        async function convertToInteractive(key) {\n",
              "          const element = document.querySelector('#df-be64eefa-b5ff-4a70-9418-510d454f562d');\n",
              "          const dataTable =\n",
              "            await google.colab.kernel.invokeFunction('convertToInteractive',\n",
              "                                                     [key], {});\n",
              "          if (!dataTable) return;\n",
              "\n",
              "          const docLinkHtml = 'Like what you see? Visit the ' +\n",
              "            '<a target=\"_blank\" href=https://colab.research.google.com/notebooks/data_table.ipynb>data table notebook</a>'\n",
              "            + ' to learn more about interactive tables.';\n",
              "          element.innerHTML = '';\n",
              "          dataTable['output_type'] = 'display_data';\n",
              "          await google.colab.output.renderOutput(dataTable, element);\n",
              "          const docLink = document.createElement('div');\n",
              "          docLink.innerHTML = docLinkHtml;\n",
              "          element.appendChild(docLink);\n",
              "        }\n",
              "      </script>\n",
              "    </div>\n",
              "  </div>\n",
              "  "
            ]
          },
          "metadata": {},
          "execution_count": 4
        }
      ],
      "source": [
        "df.head()"
      ]
    },
    {
      "cell_type": "markdown",
      "id": "a3225ca3",
      "metadata": {
        "id": "a3225ca3"
      },
      "source": [
        "# Подготовка данных"
      ]
    },
    {
      "cell_type": "markdown",
      "source": [
        "Выделим отдельно целевую переменную и исходные признаки"
      ],
      "metadata": {
        "id": "HrMbyIPhlKAV"
      },
      "id": "HrMbyIPhlKAV"
    },
    {
      "cell_type": "code",
      "execution_count": null,
      "id": "ac04eb88",
      "metadata": {
        "id": "ac04eb88"
      },
      "outputs": [],
      "source": [
        "X = df.drop(['Price'], axis=1)\n",
        "Y = df['Price']"
      ]
    },
    {
      "cell_type": "markdown",
      "source": [
        "Разделим данные на обучающую (80%) и тестовую (20%) части"
      ],
      "metadata": {
        "id": "KJnB7LgHlZJG"
      },
      "id": "KJnB7LgHlZJG"
    },
    {
      "cell_type": "code",
      "execution_count": null,
      "id": "8e5a7a7b",
      "metadata": {
        "id": "8e5a7a7b",
        "colab": {
          "base_uri": "https://localhost:8080/",
          "height": 363
        },
        "outputId": "809c118e-bb2d-4d5b-e4fc-ed9a6ff82e34"
      },
      "outputs": [
        {
          "output_type": "execute_result",
          "data": {
            "text/plain": [
              "    House  Area   Dist  Eco\n",
              "45     46  15.0  100.0    0\n",
              "36     36   6.0   65.0    0\n",
              "29    285  15.0   74.0    0\n",
              "10     65   6.0   25.0    0\n",
              "38    170  15.0   30.0    1\n",
              "26    180  17.0   86.0    0\n",
              "41    350  18.0   30.0    1\n",
              "21    210  20.0   19.0    0\n",
              "32    130   6.0   12.0    0\n",
              "14     60   8.0   51.0    0"
            ],
            "text/html": [
              "\n",
              "  <div id=\"df-b0be0f0f-ea87-4114-b19b-ba50ec2232b7\">\n",
              "    <div class=\"colab-df-container\">\n",
              "      <div>\n",
              "<style scoped>\n",
              "    .dataframe tbody tr th:only-of-type {\n",
              "        vertical-align: middle;\n",
              "    }\n",
              "\n",
              "    .dataframe tbody tr th {\n",
              "        vertical-align: top;\n",
              "    }\n",
              "\n",
              "    .dataframe thead th {\n",
              "        text-align: right;\n",
              "    }\n",
              "</style>\n",
              "<table border=\"1\" class=\"dataframe\">\n",
              "  <thead>\n",
              "    <tr style=\"text-align: right;\">\n",
              "      <th></th>\n",
              "      <th>House</th>\n",
              "      <th>Area</th>\n",
              "      <th>Dist</th>\n",
              "      <th>Eco</th>\n",
              "    </tr>\n",
              "  </thead>\n",
              "  <tbody>\n",
              "    <tr>\n",
              "      <th>45</th>\n",
              "      <td>46</td>\n",
              "      <td>15.0</td>\n",
              "      <td>100.0</td>\n",
              "      <td>0</td>\n",
              "    </tr>\n",
              "    <tr>\n",
              "      <th>36</th>\n",
              "      <td>36</td>\n",
              "      <td>6.0</td>\n",
              "      <td>65.0</td>\n",
              "      <td>0</td>\n",
              "    </tr>\n",
              "    <tr>\n",
              "      <th>29</th>\n",
              "      <td>285</td>\n",
              "      <td>15.0</td>\n",
              "      <td>74.0</td>\n",
              "      <td>0</td>\n",
              "    </tr>\n",
              "    <tr>\n",
              "      <th>10</th>\n",
              "      <td>65</td>\n",
              "      <td>6.0</td>\n",
              "      <td>25.0</td>\n",
              "      <td>0</td>\n",
              "    </tr>\n",
              "    <tr>\n",
              "      <th>38</th>\n",
              "      <td>170</td>\n",
              "      <td>15.0</td>\n",
              "      <td>30.0</td>\n",
              "      <td>1</td>\n",
              "    </tr>\n",
              "    <tr>\n",
              "      <th>26</th>\n",
              "      <td>180</td>\n",
              "      <td>17.0</td>\n",
              "      <td>86.0</td>\n",
              "      <td>0</td>\n",
              "    </tr>\n",
              "    <tr>\n",
              "      <th>41</th>\n",
              "      <td>350</td>\n",
              "      <td>18.0</td>\n",
              "      <td>30.0</td>\n",
              "      <td>1</td>\n",
              "    </tr>\n",
              "    <tr>\n",
              "      <th>21</th>\n",
              "      <td>210</td>\n",
              "      <td>20.0</td>\n",
              "      <td>19.0</td>\n",
              "      <td>0</td>\n",
              "    </tr>\n",
              "    <tr>\n",
              "      <th>32</th>\n",
              "      <td>130</td>\n",
              "      <td>6.0</td>\n",
              "      <td>12.0</td>\n",
              "      <td>0</td>\n",
              "    </tr>\n",
              "    <tr>\n",
              "      <th>14</th>\n",
              "      <td>60</td>\n",
              "      <td>8.0</td>\n",
              "      <td>51.0</td>\n",
              "      <td>0</td>\n",
              "    </tr>\n",
              "  </tbody>\n",
              "</table>\n",
              "</div>\n",
              "      <button class=\"colab-df-convert\" onclick=\"convertToInteractive('df-b0be0f0f-ea87-4114-b19b-ba50ec2232b7')\"\n",
              "              title=\"Convert this dataframe to an interactive table.\"\n",
              "              style=\"display:none;\">\n",
              "        \n",
              "  <svg xmlns=\"http://www.w3.org/2000/svg\" height=\"24px\"viewBox=\"0 0 24 24\"\n",
              "       width=\"24px\">\n",
              "    <path d=\"M0 0h24v24H0V0z\" fill=\"none\"/>\n",
              "    <path d=\"M18.56 5.44l.94 2.06.94-2.06 2.06-.94-2.06-.94-.94-2.06-.94 2.06-2.06.94zm-11 1L8.5 8.5l.94-2.06 2.06-.94-2.06-.94L8.5 2.5l-.94 2.06-2.06.94zm10 10l.94 2.06.94-2.06 2.06-.94-2.06-.94-.94-2.06-.94 2.06-2.06.94z\"/><path d=\"M17.41 7.96l-1.37-1.37c-.4-.4-.92-.59-1.43-.59-.52 0-1.04.2-1.43.59L10.3 9.45l-7.72 7.72c-.78.78-.78 2.05 0 2.83L4 21.41c.39.39.9.59 1.41.59.51 0 1.02-.2 1.41-.59l7.78-7.78 2.81-2.81c.8-.78.8-2.07 0-2.86zM5.41 20L4 18.59l7.72-7.72 1.47 1.35L5.41 20z\"/>\n",
              "  </svg>\n",
              "      </button>\n",
              "      \n",
              "  <style>\n",
              "    .colab-df-container {\n",
              "      display:flex;\n",
              "      flex-wrap:wrap;\n",
              "      gap: 12px;\n",
              "    }\n",
              "\n",
              "    .colab-df-convert {\n",
              "      background-color: #E8F0FE;\n",
              "      border: none;\n",
              "      border-radius: 50%;\n",
              "      cursor: pointer;\n",
              "      display: none;\n",
              "      fill: #1967D2;\n",
              "      height: 32px;\n",
              "      padding: 0 0 0 0;\n",
              "      width: 32px;\n",
              "    }\n",
              "\n",
              "    .colab-df-convert:hover {\n",
              "      background-color: #E2EBFA;\n",
              "      box-shadow: 0px 1px 2px rgba(60, 64, 67, 0.3), 0px 1px 3px 1px rgba(60, 64, 67, 0.15);\n",
              "      fill: #174EA6;\n",
              "    }\n",
              "\n",
              "    [theme=dark] .colab-df-convert {\n",
              "      background-color: #3B4455;\n",
              "      fill: #D2E3FC;\n",
              "    }\n",
              "\n",
              "    [theme=dark] .colab-df-convert:hover {\n",
              "      background-color: #434B5C;\n",
              "      box-shadow: 0px 1px 3px 1px rgba(0, 0, 0, 0.15);\n",
              "      filter: drop-shadow(0px 1px 2px rgba(0, 0, 0, 0.3));\n",
              "      fill: #FFFFFF;\n",
              "    }\n",
              "  </style>\n",
              "\n",
              "      <script>\n",
              "        const buttonEl =\n",
              "          document.querySelector('#df-b0be0f0f-ea87-4114-b19b-ba50ec2232b7 button.colab-df-convert');\n",
              "        buttonEl.style.display =\n",
              "          google.colab.kernel.accessAllowed ? 'block' : 'none';\n",
              "\n",
              "        async function convertToInteractive(key) {\n",
              "          const element = document.querySelector('#df-b0be0f0f-ea87-4114-b19b-ba50ec2232b7');\n",
              "          const dataTable =\n",
              "            await google.colab.kernel.invokeFunction('convertToInteractive',\n",
              "                                                     [key], {});\n",
              "          if (!dataTable) return;\n",
              "\n",
              "          const docLinkHtml = 'Like what you see? Visit the ' +\n",
              "            '<a target=\"_blank\" href=https://colab.research.google.com/notebooks/data_table.ipynb>data table notebook</a>'\n",
              "            + ' to learn more about interactive tables.';\n",
              "          element.innerHTML = '';\n",
              "          dataTable['output_type'] = 'display_data';\n",
              "          await google.colab.output.renderOutput(dataTable, element);\n",
              "          const docLink = document.createElement('div');\n",
              "          docLink.innerHTML = docLinkHtml;\n",
              "          element.appendChild(docLink);\n",
              "        }\n",
              "      </script>\n",
              "    </div>\n",
              "  </div>\n",
              "  "
            ]
          },
          "metadata": {},
          "execution_count": 6
        }
      ],
      "source": [
        "test_size = 0.20\n",
        "r_state = 54\n",
        "X_train, X_test, y_train, y_test = train_test_split(X, Y, test_size=test_size, random_state=r_state)\n",
        "X_test"
      ]
    },
    {
      "cell_type": "code",
      "source": [
        "y_test"
      ],
      "metadata": {
        "colab": {
          "base_uri": "https://localhost:8080/"
        },
        "id": "To17XTw4Rkef",
        "outputId": "37bfaad6-92ec-4c88-881f-19349a89bb5c"
      },
      "id": "To17XTw4Rkef",
      "execution_count": null,
      "outputs": [
        {
          "output_type": "execute_result",
          "data": {
            "text/plain": [
              "45      7.0\n",
              "36      6.0\n",
              "29     47.0\n",
              "10     20.0\n",
              "38    135.0\n",
              "26     27.0\n",
              "41    230.0\n",
              "21     85.0\n",
              "32     27.0\n",
              "14     16.5\n",
              "Name: Price, dtype: float64"
            ]
          },
          "metadata": {},
          "execution_count": 7
        }
      ]
    },
    {
      "cell_type": "markdown",
      "id": "fea6d4e9",
      "metadata": {
        "id": "fea6d4e9"
      },
      "source": [
        "# Обучение модели"
      ]
    },
    {
      "cell_type": "markdown",
      "source": [
        "Создадим модель линейной регрессии"
      ],
      "metadata": {
        "id": "DrIH4qAalhwW"
      },
      "id": "DrIH4qAalhwW"
    },
    {
      "cell_type": "code",
      "execution_count": null,
      "id": "a5750f35",
      "metadata": {
        "id": "a5750f35"
      },
      "outputs": [],
      "source": [
        "linear_regressor = LinearRegression(fit_intercept=True)"
      ]
    },
    {
      "cell_type": "markdown",
      "id": "9cce447f",
      "metadata": {
        "id": "9cce447f"
      },
      "source": [
        "Обучаем модель на наших данных"
      ]
    },
    {
      "cell_type": "code",
      "execution_count": null,
      "id": "22163603",
      "metadata": {
        "id": "22163603"
      },
      "outputs": [],
      "source": [
        "m1 = linear_regressor.fit(X_train, y_train)"
      ]
    },
    {
      "cell_type": "markdown",
      "id": "67808d96",
      "metadata": {
        "id": "67808d96"
      },
      "source": [
        "Посмотрим на результат обучения. Оценки коэффициентов перед признаками"
      ]
    },
    {
      "cell_type": "code",
      "execution_count": null,
      "id": "d4d64fa0",
      "metadata": {
        "colab": {
          "base_uri": "https://localhost:8080/"
        },
        "id": "d4d64fa0",
        "outputId": "df836946-ed1f-4163-eecf-c733bf469a41"
      },
      "outputs": [
        {
          "output_type": "execute_result",
          "data": {
            "text/plain": [
              "array([ 0.14830502,  3.74415323, -0.90295269, 32.54221438])"
            ]
          },
          "metadata": {},
          "execution_count": 11
        }
      ],
      "source": [
        "m1.coef_"
      ]
    },
    {
      "cell_type": "markdown",
      "id": "7a67cb21",
      "metadata": {
        "id": "7a67cb21"
      },
      "source": [
        "Оценка свободного коэффициента"
      ]
    },
    {
      "cell_type": "code",
      "execution_count": null,
      "id": "639918b8",
      "metadata": {
        "colab": {
          "base_uri": "https://localhost:8080/"
        },
        "id": "639918b8",
        "outputId": "7110730a-f9e2-4791-f2f0-53cbca4d155a"
      },
      "outputs": [
        {
          "output_type": "execute_result",
          "data": {
            "text/plain": [
              "20.11685439166537"
            ]
          },
          "metadata": {},
          "execution_count": 12
        }
      ],
      "source": [
        "m1.intercept_"
      ]
    },
    {
      "cell_type": "markdown",
      "id": "4ee12617",
      "metadata": {
        "id": "4ee12617"
      },
      "source": [
        "# Тестирование и оценка качества"
      ]
    },
    {
      "cell_type": "markdown",
      "id": "62d0f088",
      "metadata": {
        "id": "62d0f088"
      },
      "source": [
        "## Оценка качества модели на обучающей выборке"
      ]
    },
    {
      "cell_type": "markdown",
      "id": "119c57e6",
      "metadata": {
        "id": "119c57e6"
      },
      "source": [
        "Выполним предсказание с помощью функции predict"
      ]
    },
    {
      "cell_type": "code",
      "execution_count": null,
      "id": "87396a5a",
      "metadata": {
        "scrolled": true,
        "colab": {
          "base_uri": "https://localhost:8080/"
        },
        "id": "87396a5a",
        "outputId": "3ef88173-f71f-48b1-9cb4-0880662c72ec"
      },
      "outputs": [
        {
          "output_type": "execute_result",
          "data": {
            "text/plain": [
              "array([ 16.86278247,  92.73863768,  79.6221869 ,  69.1466443 ,\n",
              "         9.33278728, 111.71992191,  -7.19408498, 191.48371185,\n",
              "        68.51066622, -24.42435834, 190.42634243,  15.2963548 ,\n",
              "        -6.36530456,  71.9028792 ,  21.47731367, 149.08951582,\n",
              "       103.72129757,  53.90375821, 134.62932068, 191.68080364,\n",
              "       176.29339506,  85.55550472, 119.88370898,  53.18955561,\n",
              "       -22.88313792,  63.19229008,  75.65886762, 123.06135453,\n",
              "        56.81736844,  51.54047919, 168.95119929, -18.37581705,\n",
              "       147.18383475,  88.18059315, 152.86139762, 253.10093935,\n",
              "        88.86958454,  40.35770529])"
            ]
          },
          "metadata": {},
          "execution_count": 13
        }
      ],
      "source": [
        "prediction_train = m1.predict(X_train)\n",
        "prediction_train"
      ]
    },
    {
      "cell_type": "markdown",
      "id": "d34c20e6",
      "metadata": {
        "id": "d34c20e6"
      },
      "source": [
        "Вычислим остатки"
      ]
    },
    {
      "cell_type": "code",
      "execution_count": null,
      "id": "586fd3ce",
      "metadata": {
        "colab": {
          "base_uri": "https://localhost:8080/"
        },
        "id": "586fd3ce",
        "outputId": "746bf75f-74b2-4210-c9c2-4fa3c93bac14"
      },
      "outputs": [
        {
          "output_type": "execute_result",
          "data": {
            "text/plain": [
              "44     -0.362782\n",
              "46     17.261362\n",
              "35     15.377813\n",
              "27    -27.146644\n",
              "8       7.167213\n",
              "31    -52.719922\n",
              "42     22.194085\n",
              "12    -91.483712\n",
              "19    -30.510666\n",
              "40     34.424358\n",
              "39    124.573658\n",
              "11      4.703645\n",
              "28     11.865305\n",
              "1     -41.902879\n",
              "18     -7.477314\n",
              "3     -54.089516\n",
              "43     26.278702\n",
              "25    -38.903758\n",
              "24    -54.629321\n",
              "37    -71.680804\n",
              "16    123.706605\n",
              "34     10.444495\n",
              "20    -34.883709\n",
              "22    -25.189556\n",
              "30     27.883138\n",
              "13    -54.692290\n",
              "4     -30.658868\n",
              "6     -28.061355\n",
              "9     -31.817368\n",
              "17      8.459521\n",
              "7     -48.951199\n",
              "0      35.375817\n",
              "33    122.816165\n",
              "23     -5.180593\n",
              "15    167.138602\n",
              "2     -33.100939\n",
              "5      31.130415\n",
              "47    -27.357705\n",
              "Name: Price, dtype: float64"
            ]
          },
          "metadata": {},
          "execution_count": 14
        }
      ],
      "source": [
        "residual = (y_train - prediction_train)\n",
        "residual"
      ]
    },
    {
      "cell_type": "markdown",
      "id": "dca4b45a",
      "metadata": {
        "id": "dca4b45a"
      },
      "source": [
        "Построим диаграмму остатков"
      ]
    },
    {
      "cell_type": "code",
      "execution_count": null,
      "id": "473f603a",
      "metadata": {
        "colab": {
          "base_uri": "https://localhost:8080/",
          "height": 447
        },
        "id": "473f603a",
        "outputId": "dc5b18f6-229f-4453-b309-1a79764d6b6e"
      },
      "outputs": [
        {
          "output_type": "execute_result",
          "data": {
            "text/plain": [
              "<matplotlib.collections.PathCollection at 0x7feb32f19f30>"
            ]
          },
          "metadata": {},
          "execution_count": 15
        },
        {
          "output_type": "display_data",
          "data": {
            "text/plain": [
              "<Figure size 640x480 with 1 Axes>"
            ],
            "image/png": "[encoded data removed]"
          },
          "metadata": {}
        }
      ],
      "source": [
        "plt.scatter(residual.index, residual)"
      ]
    },
    {
      "cell_type": "markdown",
      "id": "8a82a0d8",
      "metadata": {
        "id": "8a82a0d8"
      },
      "source": [
        "Из диаграммы видно, что имеется несколько больших остатков. Значит, качество модели на обучающей выборке является невысоким."
      ]
    },
    {
      "cell_type": "markdown",
      "id": "17560aff",
      "metadata": {
        "id": "17560aff"
      },
      "source": [
        "Вычислим коэффицент детерминации"
      ]
    },
    {
      "cell_type": "code",
      "execution_count": null,
      "id": "da193224",
      "metadata": {
        "colab": {
          "base_uri": "https://localhost:8080/"
        },
        "id": "da193224",
        "outputId": "8df9d0fd-d889-43fd-eee9-31af28a2392e"
      },
      "outputs": [
        {
          "output_type": "execute_result",
          "data": {
            "text/plain": [
              "0.5933768765627409"
            ]
          },
          "metadata": {},
          "execution_count": 16
        }
      ],
      "source": [
        "r2_m1 = r2_score(y_train, prediction_train)\n",
        "r2_m1"
      ]
    },
    {
      "cell_type": "markdown",
      "id": "1890de90",
      "metadata": {
        "id": "1890de90"
      },
      "source": [
        "Относительно низкая величина коэффицента детерминации подтверждает вывод о невысоком качестве модели на обучающей выборке"
      ]
    },
    {
      "cell_type": "markdown",
      "id": "f2e2ee77",
      "metadata": {
        "id": "f2e2ee77"
      },
      "source": [
        "Вычислим метрику MAPE - mean absolute percentage error, с помощью функции mean_absolute_percentage_error"
      ]
    },
    {
      "cell_type": "code",
      "execution_count": null,
      "id": "90844b20",
      "metadata": {
        "colab": {
          "base_uri": "https://localhost:8080/"
        },
        "id": "90844b20",
        "outputId": "e7f3e759-3121-46f2-f7f6-6b588c60ff6c"
      },
      "outputs": [
        {
          "output_type": "execute_result",
          "data": {
            "text/plain": [
              "106.82719197541641"
            ]
          },
          "metadata": {},
          "execution_count": 27
        }
      ],
      "source": [
        "mape_m1 = mean_absolute_percentage_error(y_train, prediction_train)*100\n",
        "mape_m1"
      ]
    },
    {
      "cell_type": "markdown",
      "id": "8b3be262",
      "metadata": {
        "id": "8b3be262"
      },
      "source": [
        "Вычислим метрику MSE - mean squared error, с помощью функции mean_squared_error"
      ]
    },
    {
      "cell_type": "code",
      "execution_count": null,
      "id": "d4a368b3",
      "metadata": {
        "colab": {
          "base_uri": "https://localhost:8080/"
        },
        "id": "d4a368b3",
        "outputId": "4097f090-a774-4d4f-d952-35ae01f0e424"
      },
      "outputs": [
        {
          "output_type": "execute_result",
          "data": {
            "text/plain": [
              "3136.2168498759424"
            ]
          },
          "metadata": {},
          "execution_count": 17
        }
      ],
      "source": [
        "mse_m1 = mean_squared_error(y_train, prediction_train)\n",
        "mse_m1"
      ]
    },
    {
      "cell_type": "markdown",
      "id": "560fd576",
      "metadata": {
        "id": "560fd576"
      },
      "source": [
        "Вычислим метрику MAE - mean absolute error, с помощью функции mean_absolute_error"
      ]
    },
    {
      "cell_type": "code",
      "execution_count": null,
      "id": "233c7471",
      "metadata": {
        "scrolled": true,
        "colab": {
          "base_uri": "https://localhost:8080/"
        },
        "id": "233c7471",
        "outputId": "b77549e9-1f70-4a64-e4a0-f06400b703fa"
      },
      "outputs": [
        {
          "output_type": "execute_result",
          "data": {
            "text/plain": [
              "41.62110001600884"
            ]
          },
          "metadata": {},
          "execution_count": 18
        }
      ],
      "source": [
        "mae_m1 = mean_absolute_error(y_train, prediction_train)\n",
        "mae_m1"
      ]
    },
    {
      "cell_type": "markdown",
      "id": "6f551433",
      "metadata": {
        "id": "6f551433"
      },
      "source": [
        "## Оценка качества модели на тестовой выборке"
      ]
    },
    {
      "cell_type": "markdown",
      "id": "22c488d8",
      "metadata": {
        "id": "22c488d8"
      },
      "source": [
        "Выполним предсказание с помощью функции predict"
      ]
    },
    {
      "cell_type": "code",
      "execution_count": null,
      "id": "21370f84",
      "metadata": {
        "scrolled": true,
        "colab": {
          "base_uri": "https://localhost:8080/"
        },
        "id": "21370f84",
        "outputId": "5cc70e98-1f16-4829-e420-8d467f0a8a9a"
      },
      "outputs": [
        {
          "output_type": "execute_result",
          "data": {
            "text/plain": [
              "array([ -7.19408498, -10.77117018,  51.72758528,  29.64778302,\n",
              "       106.9446404 ,  32.80843213, 144.87200412, 108.98787265,\n",
              "        51.02599443,  12.91779446])"
            ]
          },
          "metadata": {},
          "execution_count": 19
        }
      ],
      "source": [
        "prediction_test = m1.predict(X_test)\n",
        "prediction_test"
      ]
    },
    {
      "cell_type": "markdown",
      "id": "271c3ffa",
      "metadata": {
        "id": "271c3ffa"
      },
      "source": [
        "Вычислим остатки"
      ]
    },
    {
      "cell_type": "code",
      "execution_count": null,
      "id": "70850966",
      "metadata": {
        "colab": {
          "base_uri": "https://localhost:8080/"
        },
        "id": "70850966",
        "outputId": "309fe45e-d708-40eb-f7ac-6594c07932f3"
      },
      "outputs": [
        {
          "output_type": "execute_result",
          "data": {
            "text/plain": [
              "45    14.194085\n",
              "36    16.771170\n",
              "29    -4.727585\n",
              "10    -9.647783\n",
              "38    28.055360\n",
              "26    -5.808432\n",
              "41    85.127996\n",
              "21   -23.987873\n",
              "32   -24.025994\n",
              "14     3.582206\n",
              "Name: Price, dtype: float64"
            ]
          },
          "metadata": {},
          "execution_count": 20
        }
      ],
      "source": [
        "residual1 = (y_test - prediction_test)\n",
        "residual1"
      ]
    },
    {
      "cell_type": "markdown",
      "id": "54c29d03",
      "metadata": {
        "id": "54c29d03"
      },
      "source": [
        "Построим диаграмму остатков"
      ]
    },
    {
      "cell_type": "code",
      "execution_count": null,
      "id": "fc5a7ea7",
      "metadata": {
        "colab": {
          "base_uri": "https://localhost:8080/",
          "height": 447
        },
        "id": "fc5a7ea7",
        "outputId": "58b493a3-d2f5-42c8-8f46-3b14fe5de57c"
      },
      "outputs": [
        {
          "output_type": "execute_result",
          "data": {
            "text/plain": [
              "<matplotlib.collections.PathCollection at 0x7feb30b48f70>"
            ]
          },
          "metadata": {},
          "execution_count": 21
        },
        {
          "output_type": "display_data",
          "data": {
            "text/plain": [
              "<Figure size 640x480 with 1 Axes>"
            ],
            "image/png": "[encoded data removed]"
          },
          "metadata": {}
        }
      ],
      "source": [
        "plt.scatter(residual1.index, residual1)"
      ]
    },
    {
      "cell_type": "markdown",
      "id": "f1740f8e",
      "metadata": {
        "id": "f1740f8e"
      },
      "source": [
        "Из диаграммы видно, что имеется только один большой остаток. Значит, качество модели на тестовой выборке можно считать близким к высокому."
      ]
    },
    {
      "cell_type": "markdown",
      "id": "d47a8593",
      "metadata": {
        "id": "d47a8593"
      },
      "source": [
        "Вычислим коэффицент детерминации"
      ]
    },
    {
      "cell_type": "code",
      "execution_count": null,
      "id": "a0550f3d",
      "metadata": {
        "colab": {
          "base_uri": "https://localhost:8080/"
        },
        "id": "a0550f3d",
        "outputId": "e45d68b1-a8c3-4cbc-ea03-59d4d220b6e3"
      },
      "outputs": [
        {
          "output_type": "execute_result",
          "data": {
            "text/plain": [
              "0.789543990384451"
            ]
          },
          "metadata": {},
          "execution_count": 22
        }
      ],
      "source": [
        "r2test_m1 = r2_score(y_test, prediction_test)\n",
        "r2test_m1"
      ]
    },
    {
      "cell_type": "markdown",
      "id": "14732677",
      "metadata": {
        "id": "14732677"
      },
      "source": [
        "Относительно высокая величина коэффицента детерминации показывает, что качестве модели на тестовой выборке близко к высокому."
      ]
    },
    {
      "cell_type": "markdown",
      "id": "37ba7d1c",
      "metadata": {
        "id": "37ba7d1c"
      },
      "source": [
        "Вычислим метрику MAPE - mean absolute percentage error, с помощью функции mean_absolute_percentage_error"
      ]
    },
    {
      "cell_type": "code",
      "execution_count": null,
      "id": "d6e3c36f",
      "metadata": {
        "colab": {
          "base_uri": "https://localhost:8080/"
        },
        "id": "d6e3c36f",
        "outputId": "d64a3418-0fb1-4a74-b073-14c123cf7328"
      },
      "outputs": [
        {
          "output_type": "execute_result",
          "data": {
            "text/plain": [
              "75.88129121195874"
            ]
          },
          "metadata": {},
          "execution_count": 23
        }
      ],
      "source": [
        "mapetest_m1 = mean_absolute_percentage_error(y_test, prediction_test)*100\n",
        "mapetest_m1"
      ]
    },
    {
      "cell_type": "markdown",
      "id": "8a794e81",
      "metadata": {
        "id": "8a794e81"
      },
      "source": [
        "Вычислим метрику MSE - mean squared error, с помощью функции mean_squared_error"
      ]
    },
    {
      "cell_type": "code",
      "execution_count": null,
      "id": "56b346fd",
      "metadata": {
        "colab": {
          "base_uri": "https://localhost:8080/"
        },
        "id": "56b346fd",
        "outputId": "e7eac73e-e779-41e7-d730-018e86bac29f"
      },
      "outputs": [
        {
          "output_type": "execute_result",
          "data": {
            "text/plain": [
              "983.1289385782917"
            ]
          },
          "metadata": {},
          "execution_count": 24
        }
      ],
      "source": [
        "msetest_m1 = mean_squared_error(y_test, prediction_test)\n",
        "msetest_m1"
      ]
    },
    {
      "cell_type": "markdown",
      "id": "583849a7",
      "metadata": {
        "id": "583849a7"
      },
      "source": [
        "Вычислим метрику MAE - mean absolute error, с помощью функции mean_absolute_error"
      ]
    },
    {
      "cell_type": "code",
      "execution_count": null,
      "id": "6c2cf2d1",
      "metadata": {
        "scrolled": true,
        "colab": {
          "base_uri": "https://localhost:8080/"
        },
        "id": "6c2cf2d1",
        "outputId": "3af66ecd-c6a9-4e9b-a8e6-d2cd6a45d987"
      },
      "outputs": [
        {
          "output_type": "execute_result",
          "data": {
            "text/plain": [
              "21.592848369433476"
            ]
          },
          "metadata": {},
          "execution_count": 25
        }
      ],
      "source": [
        "maetest_m1 = mean_absolute_error(y_test, prediction_test)\n",
        "maetest_m1"
      ]
    },
    {
      "cell_type": "markdown",
      "source": [
        "Выделим значения метрик на обучающей и тестовых выборках в отдельную таблицу"
      ],
      "metadata": {
        "id": "clsaNmvkmKjr"
      },
      "id": "clsaNmvkmKjr"
    },
    {
      "cell_type": "code",
      "execution_count": null,
      "id": "6bbd9d15",
      "metadata": {
        "colab": {
          "base_uri": "https://localhost:8080/",
          "height": 175
        },
        "id": "6bbd9d15",
        "outputId": "8d242815-9467-490c-e3b5-8b4acf06d6fc"
      },
      "outputs": [
        {
          "output_type": "execute_result",
          "data": {
            "text/plain": [
              "  Metrics        Train        Test\n",
              "0      R2     0.593377    0.789544\n",
              "1    MAPE   106.827192   75.881291\n",
              "2     MSE  3136.216850  983.128939\n",
              "3     MAE    41.621100   21.592848"
            ],
            "text/html": [
              "\n",
              "  <div id=\"df-7ac7c95d-7aa1-4546-b6aa-428fca833f96\">\n",
              "    <div class=\"colab-df-container\">\n",
              "      <div>\n",
              "<style scoped>\n",
              "    .dataframe tbody tr th:only-of-type {\n",
              "        vertical-align: middle;\n",
              "    }\n",
              "\n",
              "    .dataframe tbody tr th {\n",
              "        vertical-align: top;\n",
              "    }\n",
              "\n",
              "    .dataframe thead th {\n",
              "        text-align: right;\n",
              "    }\n",
              "</style>\n",
              "<table border=\"1\" class=\"dataframe\">\n",
              "  <thead>\n",
              "    <tr style=\"text-align: right;\">\n",
              "      <th></th>\n",
              "      <th>Metrics</th>\n",
              "      <th>Train</th>\n",
              "      <th>Test</th>\n",
              "    </tr>\n",
              "  </thead>\n",
              "  <tbody>\n",
              "    <tr>\n",
              "      <th>0</th>\n",
              "      <td>R2</td>\n",
              "      <td>0.593377</td>\n",
              "      <td>0.789544</td>\n",
              "    </tr>\n",
              "    <tr>\n",
              "      <th>1</th>\n",
              "      <td>MAPE</td>\n",
              "      <td>106.827192</td>\n",
              "      <td>75.881291</td>\n",
              "    </tr>\n",
              "    <tr>\n",
              "      <th>2</th>\n",
              "      <td>MSE</td>\n",
              "      <td>3136.216850</td>\n",
              "      <td>983.128939</td>\n",
              "    </tr>\n",
              "    <tr>\n",
              "      <th>3</th>\n",
              "      <td>MAE</td>\n",
              "      <td>41.621100</td>\n",
              "      <td>21.592848</td>\n",
              "    </tr>\n",
              "  </tbody>\n",
              "</table>\n",
              "</div>\n",
              "      <button class=\"colab-df-convert\" onclick=\"convertToInteractive('df-7ac7c95d-7aa1-4546-b6aa-428fca833f96')\"\n",
              "              title=\"Convert this dataframe to an interactive table.\"\n",
              "              style=\"display:none;\">\n",
              "        \n",
              "  <svg xmlns=\"http://www.w3.org/2000/svg\" height=\"24px\"viewBox=\"0 0 24 24\"\n",
              "       width=\"24px\">\n",
              "    <path d=\"M0 0h24v24H0V0z\" fill=\"none\"/>\n",
              "    <path d=\"M18.56 5.44l.94 2.06.94-2.06 2.06-.94-2.06-.94-.94-2.06-.94 2.06-2.06.94zm-11 1L8.5 8.5l.94-2.06 2.06-.94-2.06-.94L8.5 2.5l-.94 2.06-2.06.94zm10 10l.94 2.06.94-2.06 2.06-.94-2.06-.94-.94-2.06-.94 2.06-2.06.94z\"/><path d=\"M17.41 7.96l-1.37-1.37c-.4-.4-.92-.59-1.43-.59-.52 0-1.04.2-1.43.59L10.3 9.45l-7.72 7.72c-.78.78-.78 2.05 0 2.83L4 21.41c.39.39.9.59 1.41.59.51 0 1.02-.2 1.41-.59l7.78-7.78 2.81-2.81c.8-.78.8-2.07 0-2.86zM5.41 20L4 18.59l7.72-7.72 1.47 1.35L5.41 20z\"/>\n",
              "  </svg>\n",
              "      </button>\n",
              "      \n",
              "  <style>\n",
              "    .colab-df-container {\n",
              "      display:flex;\n",
              "      flex-wrap:wrap;\n",
              "      gap: 12px;\n",
              "    }\n",
              "\n",
              "    .colab-df-convert {\n",
              "      background-color: #E8F0FE;\n",
              "      border: none;\n",
              "      border-radius: 50%;\n",
              "      cursor: pointer;\n",
              "      display: none;\n",
              "      fill: #1967D2;\n",
              "      height: 32px;\n",
              "      padding: 0 0 0 0;\n",
              "      width: 32px;\n",
              "    }\n",
              "\n",
              "    .colab-df-convert:hover {\n",
              "      background-color: #E2EBFA;\n",
              "      box-shadow: 0px 1px 2px rgba(60, 64, 67, 0.3), 0px 1px 3px 1px rgba(60, 64, 67, 0.15);\n",
              "      fill: #174EA6;\n",
              "    }\n",
              "\n",
              "    [theme=dark] .colab-df-convert {\n",
              "      background-color: #3B4455;\n",
              "      fill: #D2E3FC;\n",
              "    }\n",
              "\n",
              "    [theme=dark] .colab-df-convert:hover {\n",
              "      background-color: #434B5C;\n",
              "      box-shadow: 0px 1px 3px 1px rgba(0, 0, 0, 0.15);\n",
              "      filter: drop-shadow(0px 1px 2px rgba(0, 0, 0, 0.3));\n",
              "      fill: #FFFFFF;\n",
              "    }\n",
              "  </style>\n",
              "\n",
              "      <script>\n",
              "        const buttonEl =\n",
              "          document.querySelector('#df-7ac7c95d-7aa1-4546-b6aa-428fca833f96 button.colab-df-convert');\n",
              "        buttonEl.style.display =\n",
              "          google.colab.kernel.accessAllowed ? 'block' : 'none';\n",
              "\n",
              "        async function convertToInteractive(key) {\n",
              "          const element = document.querySelector('#df-7ac7c95d-7aa1-4546-b6aa-428fca833f96');\n",
              "          const dataTable =\n",
              "            await google.colab.kernel.invokeFunction('convertToInteractive',\n",
              "                                                     [key], {});\n",
              "          if (!dataTable) return;\n",
              "\n",
              "          const docLinkHtml = 'Like what you see? Visit the ' +\n",
              "            '<a target=\"_blank\" href=https://colab.research.google.com/notebooks/data_table.ipynb>data table notebook</a>'\n",
              "            + ' to learn more about interactive tables.';\n",
              "          element.innerHTML = '';\n",
              "          dataTable['output_type'] = 'display_data';\n",
              "          await google.colab.output.renderOutput(dataTable, element);\n",
              "          const docLink = document.createElement('div');\n",
              "          docLink.innerHTML = docLinkHtml;\n",
              "          element.appendChild(docLink);\n",
              "        }\n",
              "      </script>\n",
              "    </div>\n",
              "  </div>\n",
              "  "
            ]
          },
          "metadata": {},
          "execution_count": 30
        }
      ],
      "source": [
        "ind = ['R2', 'MAPE', 'MSE', 'MAE']\n",
        "dat1 = [r2_m1, mape_m1, mse_m1, mae_m1]\n",
        "dat2 = [r2test_m1, mapetest_m1, msetest_m1, maetest_m1]\n",
        "\n",
        "pd.DataFrame({\n",
        "    'Metrics': ind,\n",
        "    'Train': dat1,\n",
        "    'Test': dat2\n",
        "})"
      ]
    },
    {
      "cell_type": "markdown",
      "source": [
        "Исходя из этих данных можно сказать, что модель недообучена, т.к. cредняя абсолютная процентная ошибка(MAPE) на тестовой выборке меньше, чем на обучающей выборке и также коэффицент детерминации(R2) выше на тестовой выборке."
      ],
      "metadata": {
        "id": "xToEf1qOsogQ"
      },
      "id": "xToEf1qOsogQ"
    },
    {
      "cell_type": "markdown",
      "id": "62745dff",
      "metadata": {
        "id": "62745dff"
      },
      "source": [
        "# Улучшение качества модели"
      ]
    },
    {
      "cell_type": "markdown",
      "id": "b58681ae",
      "metadata": {
        "id": "b58681ae"
      },
      "source": [
        "## Очистка данных"
      ]
    },
    {
      "cell_type": "markdown",
      "id": "f7c9bedf",
      "metadata": {
        "id": "f7c9bedf"
      },
      "source": [
        "Построим диаграмму boxplot для признаков"
      ]
    },
    {
      "cell_type": "code",
      "execution_count": null,
      "id": "5ce54606",
      "metadata": {
        "colab": {
          "base_uri": "https://localhost:8080/",
          "height": 430
        },
        "id": "5ce54606",
        "outputId": "8854327b-a77e-411d-a243-ab0797278964"
      },
      "outputs": [
        {
          "output_type": "display_data",
          "data": {
            "text/plain": [
              "<Figure size 640x480 with 1 Axes>"
            ],
            "image/png": "[encoded data removed]"
          },
          "metadata": {}
        }
      ],
      "source": [
        "box = plt.boxplot(df.Price, vert = False, notch = True, patch_artist = True,\n",
        "                  flierprops = dict(markerfacecolor = 'purple', marker = 's'),\n",
        "                  boxprops = dict(color = 'red', facecolor = 'lime' ))"
      ]
    },
    {
      "cell_type": "markdown",
      "source": [
        "Удалим аномальные данные"
      ],
      "metadata": {
        "id": "5kdbbQazAb3X"
      },
      "id": "5kdbbQazAb3X"
    },
    {
      "cell_type": "code",
      "execution_count": null,
      "id": "d51bf455",
      "metadata": {
        "colab": {
          "base_uri": "https://localhost:8080/",
          "height": 175
        },
        "id": "d51bf455",
        "outputId": "b7edf51e-f09a-467b-97b2-8d81df6edb37"
      },
      "outputs": [
        {
          "output_type": "execute_result",
          "data": {
            "text/plain": [
              "    Price  House  Area  Dist  Eco\n",
              "15  320.0    300  15.0   0.5    1\n",
              "16  300.0    400  22.0  20.0    1\n",
              "33  270.0    350  15.0  15.0    1\n",
              "39  315.0    450  25.0  25.0    1"
            ],
            "text/html": [
              "\n",
              "  <div id=\"df-9e8cfd8a-465d-43e9-a2a8-66f92b4fd883\">\n",
              "    <div class=\"colab-df-container\">\n",
              "      <div>\n",
              "<style scoped>\n",
              "    .dataframe tbody tr th:only-of-type {\n",
              "        vertical-align: middle;\n",
              "    }\n",
              "\n",
              "    .dataframe tbody tr th {\n",
              "        vertical-align: top;\n",
              "    }\n",
              "\n",
              "    .dataframe thead th {\n",
              "        text-align: right;\n",
              "    }\n",
              "</style>\n",
              "<table border=\"1\" class=\"dataframe\">\n",
              "  <thead>\n",
              "    <tr style=\"text-align: right;\">\n",
              "      <th></th>\n",
              "      <th>Price</th>\n",
              "      <th>House</th>\n",
              "      <th>Area</th>\n",
              "      <th>Dist</th>\n",
              "      <th>Eco</th>\n",
              "    </tr>\n",
              "  </thead>\n",
              "  <tbody>\n",
              "    <tr>\n",
              "      <th>15</th>\n",
              "      <td>320.0</td>\n",
              "      <td>300</td>\n",
              "      <td>15.0</td>\n",
              "      <td>0.5</td>\n",
              "      <td>1</td>\n",
              "    </tr>\n",
              "    <tr>\n",
              "      <th>16</th>\n",
              "      <td>300.0</td>\n",
              "      <td>400</td>\n",
              "      <td>22.0</td>\n",
              "      <td>20.0</td>\n",
              "      <td>1</td>\n",
              "    </tr>\n",
              "    <tr>\n",
              "      <th>33</th>\n",
              "      <td>270.0</td>\n",
              "      <td>350</td>\n",
              "      <td>15.0</td>\n",
              "      <td>15.0</td>\n",
              "      <td>1</td>\n",
              "    </tr>\n",
              "    <tr>\n",
              "      <th>39</th>\n",
              "      <td>315.0</td>\n",
              "      <td>450</td>\n",
              "      <td>25.0</td>\n",
              "      <td>25.0</td>\n",
              "      <td>1</td>\n",
              "    </tr>\n",
              "  </tbody>\n",
              "</table>\n",
              "</div>\n",
              "      <button class=\"colab-df-convert\" onclick=\"convertToInteractive('df-9e8cfd8a-465d-43e9-a2a8-66f92b4fd883')\"\n",
              "              title=\"Convert this dataframe to an interactive table.\"\n",
              "              style=\"display:none;\">\n",
              "        \n",
              "  <svg xmlns=\"http://www.w3.org/2000/svg\" height=\"24px\"viewBox=\"0 0 24 24\"\n",
              "       width=\"24px\">\n",
              "    <path d=\"M0 0h24v24H0V0z\" fill=\"none\"/>\n",
              "    <path d=\"M18.56 5.44l.94 2.06.94-2.06 2.06-.94-2.06-.94-.94-2.06-.94 2.06-2.06.94zm-11 1L8.5 8.5l.94-2.06 2.06-.94-2.06-.94L8.5 2.5l-.94 2.06-2.06.94zm10 10l.94 2.06.94-2.06 2.06-.94-2.06-.94-.94-2.06-.94 2.06-2.06.94z\"/><path d=\"M17.41 7.96l-1.37-1.37c-.4-.4-.92-.59-1.43-.59-.52 0-1.04.2-1.43.59L10.3 9.45l-7.72 7.72c-.78.78-.78 2.05 0 2.83L4 21.41c.39.39.9.59 1.41.59.51 0 1.02-.2 1.41-.59l7.78-7.78 2.81-2.81c.8-.78.8-2.07 0-2.86zM5.41 20L4 18.59l7.72-7.72 1.47 1.35L5.41 20z\"/>\n",
              "  </svg>\n",
              "      </button>\n",
              "      \n",
              "  <style>\n",
              "    .colab-df-container {\n",
              "      display:flex;\n",
              "      flex-wrap:wrap;\n",
              "      gap: 12px;\n",
              "    }\n",
              "\n",
              "    .colab-df-convert {\n",
              "      background-color: #E8F0FE;\n",
              "      border: none;\n",
              "      border-radius: 50%;\n",
              "      cursor: pointer;\n",
              "      display: none;\n",
              "      fill: #1967D2;\n",
              "      height: 32px;\n",
              "      padding: 0 0 0 0;\n",
              "      width: 32px;\n",
              "    }\n",
              "\n",
              "    .colab-df-convert:hover {\n",
              "      background-color: #E2EBFA;\n",
              "      box-shadow: 0px 1px 2px rgba(60, 64, 67, 0.3), 0px 1px 3px 1px rgba(60, 64, 67, 0.15);\n",
              "      fill: #174EA6;\n",
              "    }\n",
              "\n",
              "    [theme=dark] .colab-df-convert {\n",
              "      background-color: #3B4455;\n",
              "      fill: #D2E3FC;\n",
              "    }\n",
              "\n",
              "    [theme=dark] .colab-df-convert:hover {\n",
              "      background-color: #434B5C;\n",
              "      box-shadow: 0px 1px 3px 1px rgba(0, 0, 0, 0.15);\n",
              "      filter: drop-shadow(0px 1px 2px rgba(0, 0, 0, 0.3));\n",
              "      fill: #FFFFFF;\n",
              "    }\n",
              "  </style>\n",
              "\n",
              "      <script>\n",
              "        const buttonEl =\n",
              "          document.querySelector('#df-9e8cfd8a-465d-43e9-a2a8-66f92b4fd883 button.colab-df-convert');\n",
              "        buttonEl.style.display =\n",
              "          google.colab.kernel.accessAllowed ? 'block' : 'none';\n",
              "\n",
              "        async function convertToInteractive(key) {\n",
              "          const element = document.querySelector('#df-9e8cfd8a-465d-43e9-a2a8-66f92b4fd883');\n",
              "          const dataTable =\n",
              "            await google.colab.kernel.invokeFunction('convertToInteractive',\n",
              "                                                     [key], {});\n",
              "          if (!dataTable) return;\n",
              "\n",
              "          const docLinkHtml = 'Like what you see? Visit the ' +\n",
              "            '<a target=\"_blank\" href=https://colab.research.google.com/notebooks/data_table.ipynb>data table notebook</a>'\n",
              "            + ' to learn more about interactive tables.';\n",
              "          element.innerHTML = '';\n",
              "          dataTable['output_type'] = 'display_data';\n",
              "          await google.colab.output.renderOutput(dataTable, element);\n",
              "          const docLink = document.createElement('div');\n",
              "          docLink.innerHTML = docLinkHtml;\n",
              "          element.appendChild(docLink);\n",
              "        }\n",
              "      </script>\n",
              "    </div>\n",
              "  </div>\n",
              "  "
            ]
          },
          "metadata": {},
          "execution_count": 37
        }
      ],
      "source": [
        "df.query('Price > 250')"
      ]
    },
    {
      "cell_type": "code",
      "execution_count": null,
      "id": "fef0eb11",
      "metadata": {
        "id": "fef0eb11"
      },
      "outputs": [],
      "source": [
        "df2 = df.drop(index = [15, 16, 33, 39])"
      ]
    },
    {
      "cell_type": "code",
      "execution_count": null,
      "id": "8a06eb1a",
      "metadata": {
        "colab": {
          "base_uri": "https://localhost:8080/"
        },
        "id": "8a06eb1a",
        "outputId": "8803b370-761b-4bbe-9f3c-c88fcfe1448e"
      },
      "outputs": [
        {
          "output_type": "execute_result",
          "data": {
            "text/plain": [
              "(44, 5)"
            ]
          },
          "metadata": {},
          "execution_count": 39
        }
      ],
      "source": [
        "df2.shape"
      ]
    },
    {
      "cell_type": "markdown",
      "id": "1ded18e2",
      "metadata": {
        "id": "1ded18e2"
      },
      "source": [
        "## Обучение модели"
      ]
    },
    {
      "cell_type": "markdown",
      "source": [
        "Выделим отдельно целевую переменную и исходные признаки"
      ],
      "metadata": {
        "id": "z32zCDhoB0W9"
      },
      "id": "z32zCDhoB0W9"
    },
    {
      "cell_type": "code",
      "execution_count": null,
      "id": "6b538366",
      "metadata": {
        "id": "6b538366"
      },
      "outputs": [],
      "source": [
        "X2 = df2.drop(['Price'], axis=1)\n",
        "y2 = df2['Price']"
      ]
    },
    {
      "cell_type": "markdown",
      "source": [
        "Обучаем модель на наших данных"
      ],
      "metadata": {
        "id": "tHoI5c0BB29e"
      },
      "id": "tHoI5c0BB29e"
    },
    {
      "cell_type": "code",
      "execution_count": null,
      "id": "8ae7756a",
      "metadata": {
        "id": "8ae7756a"
      },
      "outputs": [],
      "source": [
        "m2 = linear_regressor.fit(X2, y2)"
      ]
    },
    {
      "cell_type": "markdown",
      "source": [
        "Выполним предсказание с помощью функции predict"
      ],
      "metadata": {
        "id": "f53FqiOCB74Z"
      },
      "id": "f53FqiOCB74Z"
    },
    {
      "cell_type": "code",
      "execution_count": null,
      "id": "20a64fdd",
      "metadata": {
        "scrolled": true,
        "colab": {
          "base_uri": "https://localhost:8080/"
        },
        "id": "20a64fdd",
        "outputId": "dc79b8d3-4d3e-4083-a592-46609fa1c38a"
      },
      "outputs": [
        {
          "output_type": "execute_result",
          "data": {
            "text/plain": [
              "array([-3.62836428e+00,  5.56554275e+01,  2.05508928e+02,  1.16703720e+02,\n",
              "        5.69659628e+01,  6.84979733e+01,  9.46393213e+01,  1.34886205e+02,\n",
              "        1.55060490e+01,  4.72747630e+01,  2.70807342e+01,  1.71136880e+01,\n",
              "        1.39280854e+02,  5.58478735e+01,  1.76227953e+01,  4.11055841e+01,\n",
              "        2.43431193e+01,  5.15922173e+01,  9.95100383e+01,  9.30058284e+01,\n",
              "        4.02730615e+01,  7.87055689e+01,  1.08607258e+02,  4.56556978e+01,\n",
              "        3.86207088e+01,  5.89585456e+01,  8.46459306e+00,  4.87434882e+01,\n",
              "       -4.64952855e+00,  8.37352103e+01,  4.10853026e+01,  7.16276875e+01,\n",
              "        6.74764700e+01, -1.70934512e-01,  1.57864128e+02,  8.53258627e+01,\n",
              "       -3.81814184e+00,  1.12457953e+02,  1.06379486e+01,  8.34631710e+01,\n",
              "        2.69176427e+01,  1.06379486e+01,  7.09646610e+01,  3.24029792e+01])"
            ]
          },
          "metadata": {},
          "execution_count": 43
        }
      ],
      "source": [
        "prediction2 = m2.predict(X2)\n",
        "prediction2"
      ]
    },
    {
      "cell_type": "markdown",
      "id": "975b6fe2",
      "metadata": {
        "id": "975b6fe2"
      },
      "source": [
        "Вычислим остатки"
      ]
    },
    {
      "cell_type": "code",
      "execution_count": null,
      "id": "f86d3829",
      "metadata": {
        "colab": {
          "base_uri": "https://localhost:8080/"
        },
        "id": "f86d3829",
        "outputId": "35f68ac8-848a-4fb4-85f3-7761b48dea7f"
      },
      "outputs": [
        {
          "output_type": "execute_result",
          "data": {
            "text/plain": [
              "0      20.628364\n",
              "1     -25.655427\n",
              "2      14.491072\n",
              "3     -21.703720\n",
              "4     -11.965963\n",
              "5      51.502027\n",
              "6       0.360679\n",
              "7     -14.886205\n",
              "8       0.993951\n",
              "9     -22.274763\n",
              "10     -7.080734\n",
              "11      2.886312\n",
              "12    -39.280854\n",
              "13    -47.347873\n",
              "14     -1.122795\n",
              "17     18.894416\n",
              "18    -10.343119\n",
              "19    -13.592217\n",
              "20    -14.510038\n",
              "21     -8.005828\n",
              "22    -12.273062\n",
              "23      4.294431\n",
              "24    -28.607258\n",
              "25    -30.655698\n",
              "26    -11.620709\n",
              "27    -16.958546\n",
              "28     -2.964593\n",
              "29     -1.743488\n",
              "30      9.649529\n",
              "31    -24.735210\n",
              "32    -14.085303\n",
              "34     24.372313\n",
              "35     27.523530\n",
              "36      6.170935\n",
              "37    -37.864128\n",
              "38     49.674137\n",
              "40     13.818142\n",
              "41    117.542047\n",
              "42      4.362051\n",
              "43     46.536829\n",
              "44    -10.417643\n",
              "45     -3.637949\n",
              "46     39.035339\n",
              "47    -19.402979\n",
              "Name: Price, dtype: float64"
            ]
          },
          "metadata": {},
          "execution_count": 44
        }
      ],
      "source": [
        "residual2 = (y2 - prediction2)\n",
        "residual2"
      ]
    },
    {
      "cell_type": "markdown",
      "id": "2ade2c29",
      "metadata": {
        "id": "2ade2c29"
      },
      "source": [
        "Вычислим коэффицент детерминации"
      ]
    },
    {
      "cell_type": "code",
      "execution_count": null,
      "id": "c4972820",
      "metadata": {
        "colab": {
          "base_uri": "https://localhost:8080/"
        },
        "id": "c4972820",
        "outputId": "c066286c-0354-4dfc-f72b-2369127e7444"
      },
      "outputs": [
        {
          "output_type": "execute_result",
          "data": {
            "text/plain": [
              "0.7158690063766855"
            ]
          },
          "metadata": {},
          "execution_count": 45
        }
      ],
      "source": [
        "r2_m2 = r2_score(y2, prediction2)\n",
        "r2_m2"
      ]
    },
    {
      "cell_type": "markdown",
      "id": "36b06908",
      "metadata": {
        "id": "36b06908"
      },
      "source": [
        "Относительно высокая величина коэффицента детерминации показывает, что качество модели на обучающей выборке близко к высокому."
      ]
    },
    {
      "cell_type": "markdown",
      "metadata": {
        "id": "GvYaYg3ZwBiv"
      },
      "source": [
        "## Очистка данных 2"
      ],
      "id": "GvYaYg3ZwBiv"
    },
    {
      "cell_type": "markdown",
      "source": [
        "Удалим данные с большим остатком"
      ],
      "metadata": {
        "id": "lxIOEw4fCN7m"
      },
      "id": "lxIOEw4fCN7m"
    },
    {
      "cell_type": "code",
      "execution_count": null,
      "metadata": {
        "id": "g-H6lCgZwBiu"
      },
      "outputs": [],
      "source": [
        "df3 = df2.drop(index = [5, 13, 38, 41, 43])"
      ],
      "id": "g-H6lCgZwBiu"
    },
    {
      "cell_type": "code",
      "execution_count": null,
      "metadata": {
        "colab": {
          "base_uri": "https://localhost:8080/"
        },
        "outputId": "217fbe20-4932-4808-8e5d-bd46f04a7d75",
        "id": "RndyokwnwBiu"
      },
      "outputs": [
        {
          "output_type": "execute_result",
          "data": {
            "text/plain": [
              "(39, 5)"
            ]
          },
          "metadata": {},
          "execution_count": 116
        }
      ],
      "source": [
        "df3.shape"
      ],
      "id": "RndyokwnwBiu"
    },
    {
      "cell_type": "markdown",
      "source": [
        "Выделим отдельно целевую переменную и исходные признаки"
      ],
      "metadata": {
        "id": "ONBXc3lSCi7f"
      },
      "id": "ONBXc3lSCi7f"
    },
    {
      "cell_type": "code",
      "execution_count": null,
      "metadata": {
        "id": "JZwHpL_xwBiv"
      },
      "outputs": [],
      "source": [
        "X3 = df3.drop(['Price'], axis=1)\n",
        "y3 = df3['Price']"
      ],
      "id": "JZwHpL_xwBiv"
    },
    {
      "cell_type": "markdown",
      "source": [
        "Обучаем модель на наших данных"
      ],
      "metadata": {
        "id": "iy_D3k-NCpoJ"
      },
      "id": "iy_D3k-NCpoJ"
    },
    {
      "cell_type": "code",
      "execution_count": null,
      "metadata": {
        "id": "MXQwHcUfwBiw"
      },
      "outputs": [],
      "source": [
        "m3 = linear_regressor.fit(X3, y3)"
      ],
      "id": "MXQwHcUfwBiw"
    },
    {
      "cell_type": "markdown",
      "source": [
        "Выполним предсказание с помощью функции predict"
      ],
      "metadata": {
        "id": "rdl86Y3UCBMT"
      },
      "id": "rdl86Y3UCBMT"
    },
    {
      "cell_type": "code",
      "execution_count": null,
      "metadata": {
        "scrolled": true,
        "colab": {
          "base_uri": "https://localhost:8080/"
        },
        "outputId": "83a3bcbe-39f9-45a8-868b-652c2c3fe95d",
        "id": "g5vScCzCwBiw"
      },
      "outputs": [
        {
          "output_type": "execute_result",
          "data": {
            "text/plain": [
              "array([ -0.79171019,  41.71802065, 189.24114375, 109.52968684,\n",
              "        51.20504449,  77.37899495, 119.33262252,  16.824319  ,\n",
              "        34.874822  ,  26.54516269,  17.05545382, 115.85597695,\n",
              "        18.76697105,  38.24779818,  14.3984573 ,  37.25743603,\n",
              "        96.58419689,  91.87878576,  26.42924897,  78.47378672,\n",
              "        94.48861663,  33.89919667,  40.7248109 ,  45.87377189,\n",
              "        12.377616  ,  47.93890598,  -0.6097287 ,  76.41033305,\n",
              "        38.70007159,  68.87466746,  65.77802644,   1.74492954,\n",
              "       144.08582759,   1.04587694,  15.59783655,  30.49932245,\n",
              "        15.59783655,  55.67080452,  19.49505957])"
            ]
          },
          "metadata": {},
          "execution_count": 121
        }
      ],
      "source": [
        "prediction3 = m3.predict(X3)\n",
        "prediction3"
      ],
      "id": "g5vScCzCwBiw"
    },
    {
      "cell_type": "markdown",
      "metadata": {
        "id": "pw1TcrYFwBiw"
      },
      "source": [
        "Вычислим остатки"
      ],
      "id": "pw1TcrYFwBiw"
    },
    {
      "cell_type": "code",
      "execution_count": null,
      "metadata": {
        "colab": {
          "base_uri": "https://localhost:8080/"
        },
        "outputId": "7e328b8d-e273-4da4-e4fd-2c4ad8a169fc",
        "id": "HZxYX9x_wBiw"
      },
      "outputs": [
        {
          "output_type": "execute_result",
          "data": {
            "text/plain": [
              "0     17.791710\n",
              "1    -11.718021\n",
              "2     30.758856\n",
              "3    -14.529687\n",
              "4     -6.205044\n",
              "6     17.621005\n",
              "7      0.667377\n",
              "8     -0.324319\n",
              "9     -9.874822\n",
              "10    -6.545163\n",
              "11     2.944546\n",
              "12   -15.855977\n",
              "14    -2.266971\n",
              "17    21.752202\n",
              "18    -0.398457\n",
              "19     0.742564\n",
              "20   -11.584197\n",
              "21    -6.878786\n",
              "22     1.570751\n",
              "23     4.526213\n",
              "24   -14.488617\n",
              "25   -18.899197\n",
              "26   -13.724811\n",
              "27    -3.873772\n",
              "28    -6.877616\n",
              "29    -0.938906\n",
              "30     5.609729\n",
              "31   -17.410333\n",
              "32   -11.700072\n",
              "34    27.125333\n",
              "35    29.221974\n",
              "36     4.255070\n",
              "37   -24.085828\n",
              "40     8.954123\n",
              "42    -0.597837\n",
              "44   -13.999322\n",
              "45    -8.597837\n",
              "46    54.329195\n",
              "47    -6.495060\n",
              "Name: Price, dtype: float64"
            ]
          },
          "metadata": {},
          "execution_count": 122
        }
      ],
      "source": [
        "residual3 = (y3 - prediction3)\n",
        "residual3"
      ],
      "id": "HZxYX9x_wBiw"
    },
    {
      "cell_type": "markdown",
      "metadata": {
        "id": "0SpcUZXZwBix"
      },
      "source": [
        "Вычислим коэффицент детерминации"
      ],
      "id": "0SpcUZXZwBix"
    },
    {
      "cell_type": "code",
      "execution_count": null,
      "metadata": {
        "colab": {
          "base_uri": "https://localhost:8080/"
        },
        "outputId": "840bcdc0-be63-46f6-ad3a-98b34b56d8c6",
        "id": "5SF01c_DwBiy"
      },
      "outputs": [
        {
          "output_type": "execute_result",
          "data": {
            "text/plain": [
              "0.8783242330769016"
            ]
          },
          "metadata": {},
          "execution_count": 150
        }
      ],
      "source": [
        "r2_m3 = r2_score(y3, prediction3)\n",
        "r2_m3"
      ],
      "id": "5SF01c_DwBiy"
    },
    {
      "cell_type": "markdown",
      "source": [
        "Величина коэффицента детерминации больше 0.8, будем считать качество модели достаточно хорошим"
      ],
      "metadata": {
        "id": "F8UKwlYWArRZ"
      },
      "id": "F8UKwlYWArRZ"
    },
    {
      "cell_type": "markdown",
      "source": [
        "## Оценка качества модели на обучающей выборке"
      ],
      "metadata": {
        "id": "Gg47C2ObwRdC"
      },
      "id": "Gg47C2ObwRdC"
    },
    {
      "cell_type": "code",
      "execution_count": null,
      "id": "13e4588b",
      "metadata": {
        "id": "13e4588b"
      },
      "outputs": [],
      "source": [
        "X_train, X_test, y_train, y_test = train_test_split(X3, y3, test_size=test_size, random_state=r_state)"
      ]
    },
    {
      "cell_type": "markdown",
      "id": "bd9e3729",
      "metadata": {
        "id": "bd9e3729"
      },
      "source": [
        "Обучаем модель на наших данных"
      ]
    },
    {
      "cell_type": "code",
      "execution_count": null,
      "id": "9f469bbd",
      "metadata": {
        "id": "9f469bbd"
      },
      "outputs": [],
      "source": [
        "m3 = linear_regressor.fit(X_train, y_train)"
      ]
    },
    {
      "cell_type": "markdown",
      "id": "c7c0e366",
      "metadata": {
        "id": "c7c0e366"
      },
      "source": [
        "Посомтрим на результат обучения. Оценки коэффициентов перед признаками"
      ]
    },
    {
      "cell_type": "code",
      "execution_count": null,
      "id": "87402d46",
      "metadata": {
        "colab": {
          "base_uri": "https://localhost:8080/"
        },
        "id": "87402d46",
        "outputId": "faef1c21-c936-4f11-efe3-b9f0e22b0b7d"
      },
      "outputs": [
        {
          "output_type": "execute_result",
          "data": {
            "text/plain": [
              "array([ 0.08198115,  3.51330644, -0.56643816,  6.48448763])"
            ]
          },
          "metadata": {},
          "execution_count": 127
        }
      ],
      "source": [
        "m3.coef_"
      ]
    },
    {
      "cell_type": "markdown",
      "id": "d9a2ab38",
      "metadata": {
        "id": "d9a2ab38"
      },
      "source": [
        "Оценка свободного коэффициента"
      ]
    },
    {
      "cell_type": "code",
      "execution_count": null,
      "id": "67771fab",
      "metadata": {
        "colab": {
          "base_uri": "https://localhost:8080/"
        },
        "id": "67771fab",
        "outputId": "cd48ef15-2a32-431d-d346-b7e169c182f2"
      },
      "outputs": [
        {
          "output_type": "execute_result",
          "data": {
            "text/plain": [
              "15.13393575724593"
            ]
          },
          "metadata": {},
          "execution_count": 128
        }
      ],
      "source": [
        "m3.intercept_"
      ]
    },
    {
      "cell_type": "markdown",
      "id": "08a5818d",
      "metadata": {
        "id": "08a5818d"
      },
      "source": [
        "Выполним предсказание с помощью функции predict"
      ]
    },
    {
      "cell_type": "code",
      "execution_count": null,
      "id": "cd6f149e",
      "metadata": {
        "scrolled": true,
        "colab": {
          "base_uri": "https://localhost:8080/"
        },
        "id": "cd6f149e",
        "outputId": "d0e305af-b1d2-43e5-d7ef-97883eae3206"
      },
      "outputs": [
        {
          "output_type": "execute_result",
          "data": {
            "text/plain": [
              "array([ 40.07406548,  33.64665393,  56.52732869,  19.27091013,\n",
              "       142.77830489,   2.34661558,  34.98807171,  18.10236054,\n",
              "       119.54164028,  42.1224127 , 112.30868775,  70.33678802,\n",
              "        97.47307732,  12.09769113,  40.90307015,  39.95468237,\n",
              "        49.28173541,  94.11982748,  54.25952792,  29.94161492,\n",
              "        66.55550119, 119.20335859,  27.381595  ,  91.85378024,\n",
              "        17.40528057,  -0.31591173,   0.76892803,  46.66606324,\n",
              "        37.83114972, 188.41386185,  79.16132691])"
            ]
          },
          "metadata": {},
          "execution_count": 129
        }
      ],
      "source": [
        "prediction_train = m3.predict(X_train)\n",
        "prediction_train"
      ]
    },
    {
      "cell_type": "markdown",
      "source": [
        "Вычислим остатки"
      ],
      "metadata": {
        "id": "YnBwzQ1stMTT"
      },
      "id": "YnBwzQ1stMTT"
    },
    {
      "cell_type": "code",
      "execution_count": null,
      "id": "e474091e",
      "metadata": {
        "colab": {
          "base_uri": "https://localhost:8080/"
        },
        "id": "e474091e",
        "outputId": "5c282769-7555-468a-ac5a-d165dcd4a585"
      },
      "outputs": [
        {
          "output_type": "execute_result",
          "data": {
            "text/plain": [
              "32   -13.074065\n",
              "25   -18.646654\n",
              "46    53.472671\n",
              "14    -2.770910\n",
              "37   -22.778305\n",
              "36     3.653384\n",
              "9     -9.988072\n",
              "11     1.897639\n",
              "12   -19.541640\n",
              "1    -12.122413\n",
              "3    -17.308688\n",
              "34    25.663212\n",
              "20   -12.473077\n",
              "28    -6.597691\n",
              "26   -13.903070\n",
              "17    20.045318\n",
              "29    -2.281735\n",
              "24   -14.119827\n",
              "4     -9.259528\n",
              "44   -13.441615\n",
              "35    28.444499\n",
              "7      0.796641\n",
              "10    -7.381595\n",
              "21    -6.853780\n",
              "8     -0.905281\n",
              "0     17.315912\n",
              "40     9.231072\n",
              "27    -4.666063\n",
              "19     0.168850\n",
              "2     31.586138\n",
              "6     15.838673\n",
              "Name: Price, dtype: float64"
            ]
          },
          "metadata": {},
          "execution_count": 130
        }
      ],
      "source": [
        "residual3_train = (y_train - prediction_train)\n",
        "residual3_train"
      ]
    },
    {
      "cell_type": "markdown",
      "source": [
        "Построим диаграмму остатков"
      ],
      "metadata": {
        "id": "XF4KYMNrtgyN"
      },
      "id": "XF4KYMNrtgyN"
    },
    {
      "cell_type": "code",
      "source": [
        "plt.scatter(residual.index, residual)"
      ],
      "metadata": {
        "colab": {
          "base_uri": "https://localhost:8080/",
          "height": 447
        },
        "id": "YwAd8KiWa8OO",
        "outputId": "bc6f5926-7b19-4387-8475-edf721bf9821"
      },
      "id": "YwAd8KiWa8OO",
      "execution_count": null,
      "outputs": [
        {
          "output_type": "execute_result",
          "data": {
            "text/plain": [
              "<matplotlib.collections.PathCollection at 0x7f1c900afee0>"
            ]
          },
          "metadata": {},
          "execution_count": 131
        },
        {
          "output_type": "display_data",
          "data": {
            "text/plain": [
              "<Figure size 640x480 with 1 Axes>"
            ],
            "image/png": "[encoded data removed]"
          },
          "metadata": {}
        }
      ]
    },
    {
      "cell_type": "markdown",
      "source": [
        "Исходя из диаграммы видно, что остатки достаточно небольшие. Значит, качество модели на обучающей выборке является высоким"
      ],
      "metadata": {
        "id": "XdDk8kxtbc1G"
      },
      "id": "XdDk8kxtbc1G"
    },
    {
      "cell_type": "markdown",
      "id": "27da512f",
      "metadata": {
        "id": "27da512f"
      },
      "source": [
        "Вычислим коэффицент детерминации с помощью функции"
      ]
    },
    {
      "cell_type": "code",
      "execution_count": null,
      "id": "06b0094e",
      "metadata": {
        "colab": {
          "base_uri": "https://localhost:8080/"
        },
        "id": "06b0094e",
        "outputId": "e221cbc4-dad1-4bc2-f182-1cc6b20beee6"
      },
      "outputs": [
        {
          "output_type": "execute_result",
          "data": {
            "text/plain": [
              "0.8665243749524545"
            ]
          },
          "metadata": {},
          "execution_count": 148
        }
      ],
      "source": [
        "r2_m3 = r2_score(y_train, prediction_train)\n",
        "r2_m3"
      ]
    },
    {
      "cell_type": "markdown",
      "id": "72102b27",
      "metadata": {
        "id": "72102b27"
      },
      "source": [
        "Величина коэффицента детерминации больше 0.8, будем считать качество модели достаточно хорошим"
      ]
    },
    {
      "cell_type": "markdown",
      "id": "644dfc5c",
      "metadata": {
        "id": "644dfc5c"
      },
      "source": [
        "Вычислим метрику MAPE - mean absolute percentage error, с помощью функции mean_absolute_percentage_error"
      ]
    },
    {
      "cell_type": "code",
      "execution_count": null,
      "id": "1b1ffd09",
      "metadata": {
        "colab": {
          "base_uri": "https://localhost:8080/"
        },
        "id": "1b1ffd09",
        "outputId": "05c1be41-cec8-4775-d7e5-b20bf3b8bb97"
      },
      "outputs": [
        {
          "output_type": "execute_result",
          "data": {
            "text/plain": [
              "36.58864089251945"
            ]
          },
          "metadata": {},
          "execution_count": 133
        }
      ],
      "source": [
        "mape_m3 = mean_absolute_percentage_error(y_train, prediction_train)*100\n",
        "mape_m3"
      ]
    },
    {
      "cell_type": "markdown",
      "id": "6094ed7d",
      "metadata": {
        "id": "6094ed7d"
      },
      "source": [
        "Вычислим метрику MSE - mean squared error, с помощью функции mean_squared_error"
      ]
    },
    {
      "cell_type": "code",
      "execution_count": null,
      "id": "8a2ca317",
      "metadata": {
        "colab": {
          "base_uri": "https://localhost:8080/"
        },
        "id": "8a2ca317",
        "outputId": "b09bd15c-4000-4447-b8ca-5017c7eb04ae"
      },
      "outputs": [
        {
          "output_type": "execute_result",
          "data": {
            "text/plain": [
              "301.3171262181547"
            ]
          },
          "metadata": {},
          "execution_count": 134
        }
      ],
      "source": [
        "mse_m3 = mean_squared_error(y_train, prediction_train)\n",
        "mse_m3"
      ]
    },
    {
      "cell_type": "markdown",
      "id": "2a7adb1e",
      "metadata": {
        "id": "2a7adb1e"
      },
      "source": [
        "Вычислим метрику MAE - mean absolute error, с помощью функции mean_absolute_error"
      ]
    },
    {
      "cell_type": "code",
      "execution_count": null,
      "id": "3d30e5cb",
      "metadata": {
        "scrolled": true,
        "colab": {
          "base_uri": "https://localhost:8080/"
        },
        "id": "3d30e5cb",
        "outputId": "c197c08a-e344-400b-b07d-9d1db8223ca8"
      },
      "outputs": [
        {
          "output_type": "execute_result",
          "data": {
            "text/plain": [
              "13.426710338671889"
            ]
          },
          "metadata": {},
          "execution_count": 135
        }
      ],
      "source": [
        "mae_m3 = mean_absolute_error(y_train, prediction_train)\n",
        "mae_m3"
      ]
    },
    {
      "cell_type": "markdown",
      "id": "817455f1",
      "metadata": {
        "id": "817455f1"
      },
      "source": [
        "## Оценка качества модели на тестовой выборке"
      ]
    },
    {
      "cell_type": "markdown",
      "id": "20bd0a07",
      "metadata": {
        "id": "20bd0a07"
      },
      "source": [
        "Выполним предсказание с помощью функции predict"
      ]
    },
    {
      "cell_type": "code",
      "execution_count": null,
      "id": "6b78af49",
      "metadata": {
        "scrolled": true,
        "colab": {
          "base_uri": "https://localhost:8080/"
        },
        "id": "6b78af49",
        "outputId": "baf777f4-48a0-4bfd-b3c9-48ace9c3a936"
      },
      "outputs": [
        {
          "output_type": "execute_result",
          "data": {
            "text/plain": [
              "array([14.96084959, -0.59330331, 79.60113792, 20.11503448, 14.20422904,\n",
              "       78.60204882, 27.11067969, 14.96084959])"
            ]
          },
          "metadata": {},
          "execution_count": 136
        }
      ],
      "source": [
        "prediction3_test = m3.predict(X_test)\n",
        "prediction3_test"
      ]
    },
    {
      "cell_type": "markdown",
      "id": "3d797904",
      "metadata": {
        "id": "3d797904"
      },
      "source": [
        "Вычислим остатки"
      ]
    },
    {
      "cell_type": "code",
      "execution_count": null,
      "id": "fcd78291",
      "metadata": {
        "colab": {
          "base_uri": "https://localhost:8080/"
        },
        "id": "fcd78291",
        "outputId": "7ab46b01-fc04-49c0-a89a-21ad31117439"
      },
      "outputs": [
        {
          "output_type": "execute_result",
          "data": {
            "text/plain": [
              "45    -7.960850\n",
              "30     5.593303\n",
              "31   -20.601138\n",
              "47    -7.115034\n",
              "18    -0.204229\n",
              "23     4.397951\n",
              "22     0.889320\n",
              "42     0.039150\n",
              "Name: Price, dtype: float64"
            ]
          },
          "metadata": {},
          "execution_count": 137
        }
      ],
      "source": [
        "residual3_test = (y_test - prediction3_test)\n",
        "residual3_test"
      ]
    },
    {
      "cell_type": "markdown",
      "id": "0458a2ec",
      "metadata": {
        "id": "0458a2ec"
      },
      "source": [
        "Построим диаграмму остатков"
      ]
    },
    {
      "cell_type": "code",
      "execution_count": null,
      "id": "8bb47f88",
      "metadata": {
        "colab": {
          "base_uri": "https://localhost:8080/",
          "height": 447
        },
        "id": "8bb47f88",
        "outputId": "bd0c7044-556e-4cd3-983e-e0b4aa65db21"
      },
      "outputs": [
        {
          "output_type": "execute_result",
          "data": {
            "text/plain": [
              "<matplotlib.collections.PathCollection at 0x7f1c900e0430>"
            ]
          },
          "metadata": {},
          "execution_count": 138
        },
        {
          "output_type": "display_data",
          "data": {
            "text/plain": [
              "<Figure size 640x480 with 1 Axes>"
            ],
            "image/png": "[encoded data removed]"
          },
          "metadata": {}
        }
      ],
      "source": [
        "plt.scatter(residual3_test.index, residual3_test)"
      ]
    },
    {
      "cell_type": "markdown",
      "id": "a6c7221e",
      "metadata": {
        "id": "a6c7221e"
      },
      "source": [
        "Исходя из диаграммы, имеется малое количество больших остатков. Значит, качество модели на тестовой выборке является высоким"
      ]
    },
    {
      "cell_type": "markdown",
      "id": "2cff5202",
      "metadata": {
        "id": "2cff5202"
      },
      "source": [
        "Вычислим коэффицент детерминации с помощью функции"
      ]
    },
    {
      "cell_type": "code",
      "execution_count": null,
      "id": "a63f89a8",
      "metadata": {
        "colab": {
          "base_uri": "https://localhost:8080/"
        },
        "id": "a63f89a8",
        "outputId": "0c4af1d2-885e-4fab-bd29-4178c2b93dcc"
      },
      "outputs": [
        {
          "output_type": "execute_result",
          "data": {
            "text/plain": [
              "0.8936410250749809"
            ]
          },
          "metadata": {},
          "execution_count": 149
        }
      ],
      "source": [
        "r2test_m3 = r2_score(y_test, prediction3_test)\n",
        "r2test_m3"
      ]
    },
    {
      "cell_type": "markdown",
      "id": "796eadbe",
      "metadata": {
        "id": "796eadbe"
      },
      "source": [
        "Величина коэффицента детерминации больше 0.8, будем считать качество модели достаточно хорошим"
      ]
    },
    {
      "cell_type": "markdown",
      "id": "df182c30",
      "metadata": {
        "id": "df182c30"
      },
      "source": [
        "Вычислим метрику MAPE - mean absolute percentage error, с помощью функции mean_absolute_percentage_error"
      ]
    },
    {
      "cell_type": "code",
      "execution_count": null,
      "id": "bf02f36f",
      "metadata": {
        "colab": {
          "base_uri": "https://localhost:8080/"
        },
        "id": "bf02f36f",
        "outputId": "6260786a-647e-4151-916b-110381d05585"
      },
      "outputs": [
        {
          "output_type": "execute_result",
          "data": {
            "text/plain": [
              "40.679421020124"
            ]
          },
          "metadata": {},
          "execution_count": 141
        }
      ],
      "source": [
        "mapetest_m3 = mean_absolute_percentage_error(y_test, prediction3_test)*100\n",
        "mapetest_m3"
      ]
    },
    {
      "cell_type": "markdown",
      "id": "5e088c0a",
      "metadata": {
        "id": "5e088c0a"
      },
      "source": [
        "Вычислим метрику MSE - mean squared error, с помощью функции mean_squared_error"
      ]
    },
    {
      "cell_type": "code",
      "execution_count": null,
      "id": "08c43f1e",
      "metadata": {
        "colab": {
          "base_uri": "https://localhost:8080/"
        },
        "id": "08c43f1e",
        "outputId": "db87b279-0542-480f-afc6-33124ef3bef5"
      },
      "outputs": [
        {
          "output_type": "execute_result",
          "data": {
            "text/plain": [
              "73.73335936676948"
            ]
          },
          "metadata": {},
          "execution_count": 142
        }
      ],
      "source": [
        "msetest_m3 = mean_squared_error(y_test, prediction3_test)\n",
        "msetest_m3"
      ]
    },
    {
      "cell_type": "markdown",
      "id": "11fcd999",
      "metadata": {
        "id": "11fcd999"
      },
      "source": [
        "Вычислим метрику MAE - mean absolute error, с помощью функции mean_absolute_error"
      ]
    },
    {
      "cell_type": "code",
      "execution_count": null,
      "id": "63b0d6c5",
      "metadata": {
        "scrolled": true,
        "colab": {
          "base_uri": "https://localhost:8080/"
        },
        "id": "63b0d6c5",
        "outputId": "832083c8-d74b-4c6b-80cd-73be5a350c1a"
      },
      "outputs": [
        {
          "output_type": "execute_result",
          "data": {
            "text/plain": [
              "5.850122030415852"
            ]
          },
          "metadata": {},
          "execution_count": 143
        }
      ],
      "source": [
        "maetest_m3 = mean_absolute_error(y_test, prediction3_test)\n",
        "maetest_m3"
      ]
    },
    {
      "cell_type": "code",
      "execution_count": null,
      "id": "ff0c058b",
      "metadata": {
        "colab": {
          "base_uri": "https://localhost:8080/",
          "height": 175
        },
        "id": "ff0c058b",
        "outputId": "e81b40ea-3d1f-4751-a3a7-b04fba072911"
      },
      "outputs": [
        {
          "output_type": "execute_result",
          "data": {
            "text/plain": [
              "  Metrics       Train       Test\n",
              "0      R2    0.866524   0.893641\n",
              "1    MAPE   36.588641  40.679421\n",
              "2     MSE  301.317126  73.733359\n",
              "3     MAE   13.426710   5.850122"
            ],
            "text/html": [
              "\n",
              "  <div id=\"df-31924e66-9050-48a5-917c-600a1dc19c2e\">\n",
              "    <div class=\"colab-df-container\">\n",
              "      <div>\n",
              "<style scoped>\n",
              "    .dataframe tbody tr th:only-of-type {\n",
              "        vertical-align: middle;\n",
              "    }\n",
              "\n",
              "    .dataframe tbody tr th {\n",
              "        vertical-align: top;\n",
              "    }\n",
              "\n",
              "    .dataframe thead th {\n",
              "        text-align: right;\n",
              "    }\n",
              "</style>\n",
              "<table border=\"1\" class=\"dataframe\">\n",
              "  <thead>\n",
              "    <tr style=\"text-align: right;\">\n",
              "      <th></th>\n",
              "      <th>Metrics</th>\n",
              "      <th>Train</th>\n",
              "      <th>Test</th>\n",
              "    </tr>\n",
              "  </thead>\n",
              "  <tbody>\n",
              "    <tr>\n",
              "      <th>0</th>\n",
              "      <td>R2</td>\n",
              "      <td>0.866524</td>\n",
              "      <td>0.893641</td>\n",
              "    </tr>\n",
              "    <tr>\n",
              "      <th>1</th>\n",
              "      <td>MAPE</td>\n",
              "      <td>36.588641</td>\n",
              "      <td>40.679421</td>\n",
              "    </tr>\n",
              "    <tr>\n",
              "      <th>2</th>\n",
              "      <td>MSE</td>\n",
              "      <td>301.317126</td>\n",
              "      <td>73.733359</td>\n",
              "    </tr>\n",
              "    <tr>\n",
              "      <th>3</th>\n",
              "      <td>MAE</td>\n",
              "      <td>13.426710</td>\n",
              "      <td>5.850122</td>\n",
              "    </tr>\n",
              "  </tbody>\n",
              "</table>\n",
              "</div>\n",
              "      <button class=\"colab-df-convert\" onclick=\"convertToInteractive('df-31924e66-9050-48a5-917c-600a1dc19c2e')\"\n",
              "              title=\"Convert this dataframe to an interactive table.\"\n",
              "              style=\"display:none;\">\n",
              "        \n",
              "  <svg xmlns=\"http://www.w3.org/2000/svg\" height=\"24px\"viewBox=\"0 0 24 24\"\n",
              "       width=\"24px\">\n",
              "    <path d=\"M0 0h24v24H0V0z\" fill=\"none\"/>\n",
              "    <path d=\"M18.56 5.44l.94 2.06.94-2.06 2.06-.94-2.06-.94-.94-2.06-.94 2.06-2.06.94zm-11 1L8.5 8.5l.94-2.06 2.06-.94-2.06-.94L8.5 2.5l-.94 2.06-2.06.94zm10 10l.94 2.06.94-2.06 2.06-.94-2.06-.94-.94-2.06-.94 2.06-2.06.94z\"/><path d=\"M17.41 7.96l-1.37-1.37c-.4-.4-.92-.59-1.43-.59-.52 0-1.04.2-1.43.59L10.3 9.45l-7.72 7.72c-.78.78-.78 2.05 0 2.83L4 21.41c.39.39.9.59 1.41.59.51 0 1.02-.2 1.41-.59l7.78-7.78 2.81-2.81c.8-.78.8-2.07 0-2.86zM5.41 20L4 18.59l7.72-7.72 1.47 1.35L5.41 20z\"/>\n",
              "  </svg>\n",
              "      </button>\n",
              "      \n",
              "  <style>\n",
              "    .colab-df-container {\n",
              "      display:flex;\n",
              "      flex-wrap:wrap;\n",
              "      gap: 12px;\n",
              "    }\n",
              "\n",
              "    .colab-df-convert {\n",
              "      background-color: #E8F0FE;\n",
              "      border: none;\n",
              "      border-radius: 50%;\n",
              "      cursor: pointer;\n",
              "      display: none;\n",
              "      fill: #1967D2;\n",
              "      height: 32px;\n",
              "      padding: 0 0 0 0;\n",
              "      width: 32px;\n",
              "    }\n",
              "\n",
              "    .colab-df-convert:hover {\n",
              "      background-color: #E2EBFA;\n",
              "      box-shadow: 0px 1px 2px rgba(60, 64, 67, 0.3), 0px 1px 3px 1px rgba(60, 64, 67, 0.15);\n",
              "      fill: #174EA6;\n",
              "    }\n",
              "\n",
              "    [theme=dark] .colab-df-convert {\n",
              "      background-color: #3B4455;\n",
              "      fill: #D2E3FC;\n",
              "    }\n",
              "\n",
              "    [theme=dark] .colab-df-convert:hover {\n",
              "      background-color: #434B5C;\n",
              "      box-shadow: 0px 1px 3px 1px rgba(0, 0, 0, 0.15);\n",
              "      filter: drop-shadow(0px 1px 2px rgba(0, 0, 0, 0.3));\n",
              "      fill: #FFFFFF;\n",
              "    }\n",
              "  </style>\n",
              "\n",
              "      <script>\n",
              "        const buttonEl =\n",
              "          document.querySelector('#df-31924e66-9050-48a5-917c-600a1dc19c2e button.colab-df-convert');\n",
              "        buttonEl.style.display =\n",
              "          google.colab.kernel.accessAllowed ? 'block' : 'none';\n",
              "\n",
              "        async function convertToInteractive(key) {\n",
              "          const element = document.querySelector('#df-31924e66-9050-48a5-917c-600a1dc19c2e');\n",
              "          const dataTable =\n",
              "            await google.colab.kernel.invokeFunction('convertToInteractive',\n",
              "                                                     [key], {});\n",
              "          if (!dataTable) return;\n",
              "\n",
              "          const docLinkHtml = 'Like what you see? Visit the ' +\n",
              "            '<a target=\"_blank\" href=https://colab.research.google.com/notebooks/data_table.ipynb>data table notebook</a>'\n",
              "            + ' to learn more about interactive tables.';\n",
              "          element.innerHTML = '';\n",
              "          dataTable['output_type'] = 'display_data';\n",
              "          await google.colab.output.renderOutput(dataTable, element);\n",
              "          const docLink = document.createElement('div');\n",
              "          docLink.innerHTML = docLinkHtml;\n",
              "          element.appendChild(docLink);\n",
              "        }\n",
              "      </script>\n",
              "    </div>\n",
              "  </div>\n",
              "  "
            ]
          },
          "metadata": {},
          "execution_count": 144
        }
      ],
      "source": [
        "ind = ['R2', 'MAPE', 'MSE', 'MAE']\n",
        "m3_metrics = [r2_m3, mape_m3, mse_m3, mae_m3]\n",
        "m3_test_metrics = [r2test_m3, mapetest_m3, msetest_m3, maetest_m3]\n",
        "\n",
        "pd.DataFrame({\n",
        "    'Metrics': ind,\n",
        "    'Train': m3_metrics,\n",
        "    'Test': m3_test_metrics\n",
        "})"
      ]
    },
    {
      "cell_type": "markdown",
      "source": [
        "Исходя из этиз данных нельзя сказать получилась модель переобученной или недообученной, т.к. cредняя абсолютная процентная ошибка(MAPE) на обучающей выборке меньше, чем на тестовой, но коэффициент детерминации(R2) выше на тестовой выборке."
      ],
      "metadata": {
        "id": "J3DfIN2RBCul"
      },
      "id": "J3DfIN2RBCul"
    },
    {
      "cell_type": "markdown",
      "source": [
        "# Заключение"
      ],
      "metadata": {
        "id": "zTLU1-YKsDgq"
      },
      "id": "zTLU1-YKsDgq"
    },
    {
      "cell_type": "markdown",
      "source": [
        "Цель работы — предсказание стоимости коттеджа по его площади и другим характеристик с помощью линейной модели регрессионного анализа."
      ],
      "metadata": {
        "id": "1gYEGtsJsIqG"
      },
      "id": "1gYEGtsJsIqG"
    },
    {
      "cell_type": "markdown",
      "source": [
        "Использованные пакеты: numpy, pandas, matplotlib, seaborn, sklearn."
      ],
      "metadata": {
        "id": "XTyEGdhWvVKT"
      },
      "id": "XTyEGdhWvVKT"
    },
    {
      "cell_type": "markdown",
      "source": [
        "В работе мы разделили данные на обучающую и тестовые выборки, построили модель линейной регрессии и оценили ее качество с помощью различных метрик. Затем мы провели анализ выборки и удалили из нее аномальные данные с целью улучшения качества модели. Выбросив данные с большими остатками, мы получили коэффицент детерминации равный 0.8783242330769016. В итоге модель получилась и не дообученной, и не переобученной."
      ],
      "metadata": {
        "id": "aJGHfRse0NWt"
      },
      "id": "aJGHfRse0NWt"
    }
  ],
  "metadata": {
    "kernelspec": {
      "display_name": "Python 3 (ipykernel)",
      "language": "python",
      "name": "python3"
    },
    "language_info": {
      "codemirror_mode": {
        "name": "ipython",
        "version": 3
      },
      "file_extension": ".py",
      "mimetype": "text/x-python",
      "name": "python",
      "nbconvert_exporter": "python",
      "pygments_lexer": "ipython3",
      "version": "3.9.13"
    },
    "colab": {
      "provenance": [],
      "toc_visible": true
    }
  },
  "nbformat": 4,
  "nbformat_minor": 5
}