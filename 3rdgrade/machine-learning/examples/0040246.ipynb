{
  "nbformat": 4,
  "nbformat_minor": 0,
  "metadata": {
    "colab": {
      "provenance": [],
      "toc_visible": true
    },
    "kernelspec": {
      "name": "python3",
      "display_name": "Python 3"
    },
    "language_info": {
      "name": "python"
    }
  },
  "cells": [
    {
      "cell_type": "markdown",
      "source": [
        "<font size=6>\n",
        "Проверка нормальности распределения"
      ],
      "metadata": {
        "id": "0ijW0YrC2-1l"
      }
    },
    {
      "cell_type": "markdown",
      "source": [
        "Выполнил: Иванов Роман, ММБ-004"
      ],
      "metadata": {
        "id": "-BL6KajK3YD_"
      }
    },
    {
      "cell_type": "markdown",
      "source": [
        "# Введение\n",
        "\n",
        "Цель работы: провести проверку нормальности распределения исследуемого показателя, определенного на разных генеральных совокупностях. Данные представлены в виде объедененной выборки, состоящей из четырех частей представляющих разные генеральные совокупности. Переменная-индикатор определяет, к какой части относится тот или иной элемент объединенной выборки."
      ],
      "metadata": {
        "id": "UaKQMmMB3hOy"
      }
    },
    {
      "cell_type": "markdown",
      "source": [
        "Подключение библиотек"
      ],
      "metadata": {
        "id": "wKTiNb9Q3myb"
      }
    },
    {
      "cell_type": "code",
      "execution_count": null,
      "metadata": {
        "id": "pp_nPjFWEJGb"
      },
      "outputs": [],
      "source": [
        "import pandas as pd\n",
        "import matplotlib.pyplot as plt\n",
        "import numpy as np\n",
        "import scipy.stats as stats\n",
        "import seaborn as sns"
      ]
    },
    {
      "cell_type": "markdown",
      "source": [
        "Извлечение данных из файла"
      ],
      "metadata": {
        "id": "Zo4hu9gy3rya"
      }
    },
    {
      "cell_type": "code",
      "source": [
        "ds0=pd.read_excel(\"ML.ds2.xlsx\")\n",
        "ds0"
      ],
      "metadata": {
        "colab": {
          "base_uri": "https://localhost:8080/",
          "height": 487
        },
        "id": "XMvVwq-ZGTpG",
        "outputId": "a9a0bdd5-a3b3-4154-8431-f7bec81acd6b"
      },
      "execution_count": null,
      "outputs": [
        {
          "output_type": "execute_result",
          "data": {
            "text/plain": [
              "             v1         v2         v3         v4         v5         v6  \\\n",
              "0      6.059313  -1.855521 -17.162673  11.044343 -23.341780 -42.520243   \n",
              "1     11.853664  -1.287746 -26.281267 -21.672478   0.978450 -19.722558   \n",
              "2      7.770431  -6.649831 -18.138106  -9.144086  -6.882682 -50.593063   \n",
              "3      9.634201  18.295676  -1.251677  -5.454505 -10.419025 -15.419516   \n",
              "4      9.693239  -2.421079 -10.350603  -9.555780  14.607057  13.658101   \n",
              "...         ...        ...        ...        ...        ...        ...   \n",
              "1395  13.093231  -3.841812 -31.574344 -19.366295  12.349862  -8.109772   \n",
              "1396  12.142872  12.482686   3.818097  -9.440888 -27.774032 -47.837485   \n",
              "1397   4.644531   9.041294   5.761300 -19.282417  -2.181760 -59.122741   \n",
              "1398   9.363536  12.533379  -6.838237 -30.175139 -29.440737 -28.805840   \n",
              "1399  11.184674  -0.469269 -12.452354  -2.012772  18.570408  -7.752303   \n",
              "\n",
              "             v7         v8         v9        v10  ...        v72        v73  \\\n",
              "0     53.133029  17.829904  15.312515  46.026926  ...  18.143563 -14.173505   \n",
              "1    -45.017433  19.227115  34.183479  65.385567  ...   1.447923  -4.507531   \n",
              "2     -7.432258  18.870878  32.183995 -15.468149  ...  17.018063  -6.249020   \n",
              "3      3.636486  14.139482  19.376166  -1.363523  ...   5.788373  13.385526   \n",
              "4     -8.667340  20.476363  27.179034  42.885804  ...   4.913177 -16.022962   \n",
              "...         ...        ...        ...        ...  ...        ...        ...   \n",
              "1395 -38.098884  12.164525   9.914687  37.743749  ...   8.203809   3.948609   \n",
              "1396  -8.322664  -1.228660  32.247943  31.930054  ...   9.636445 -14.281234   \n",
              "1397 -37.847250  25.224062 -26.323112  36.524298  ...  -4.145583 -26.408232   \n",
              "1398 -70.525417  -3.745504  49.071180  17.408084  ...   0.151256 -12.667154   \n",
              "1399  13.961684   6.238201   6.060482  27.222259  ...   0.019198  20.609916   \n",
              "\n",
              "            v74        v75        v76        v77        v78        v79  \\\n",
              "0    -12.908814 -30.324509  11.314424  35.557165  18.456091   7.427282   \n",
              "1     -5.578855   3.159857  30.422340  34.115070  18.175637   7.389731   \n",
              "2    -21.093471 -11.894213  30.611333  -9.326853  11.518727  39.650201   \n",
              "3     -0.883430 -28.111708   7.078885  24.275838  23.820348  -2.653444   \n",
              "4    -20.864255 -17.932962  20.897679  -5.641990   7.759069  -1.067956   \n",
              "...         ...        ...        ...        ...        ...        ...   \n",
              "1395 -19.115411  19.979700  25.287128  15.830407  20.846346  22.376578   \n",
              "1396  -9.964427   8.848576  45.356607  11.322087  -9.787732   4.541500   \n",
              "1397 -15.694540 -12.970088  15.757011  40.161573  42.421629  42.952213   \n",
              "1398   0.781810 -22.384279  11.230092  27.710772  14.908584  26.325615   \n",
              "1399 -17.239942  17.418301  27.492175  18.589927   7.182120  21.427884   \n",
              "\n",
              "            v80  G  \n",
              "0    -30.388955  1  \n",
              "1    -29.035627  3  \n",
              "2    -28.201074  3  \n",
              "3    -26.810639  1  \n",
              "4    -24.843948  1  \n",
              "...         ... ..  \n",
              "1395  76.898678  1  \n",
              "1396  79.154225  1  \n",
              "1397  85.032471  1  \n",
              "1398  88.166954  1  \n",
              "1399  98.364936  3  \n",
              "\n",
              "[1400 rows x 81 columns]"
            ],
            "text/html": [
              "\n",
              "  <div id=\"df-57dc84d6-9034-469b-af66-bf9883913edf\">\n",
              "    <div class=\"colab-df-container\">\n",
              "      <div>\n",
              "<style scoped>\n",
              "    .dataframe tbody tr th:only-of-type {\n",
              "        vertical-align: middle;\n",
              "    }\n",
              "\n",
              "    .dataframe tbody tr th {\n",
              "        vertical-align: top;\n",
              "    }\n",
              "\n",
              "    .dataframe thead th {\n",
              "        text-align: right;\n",
              "    }\n",
              "</style>\n",
              "<table border=\"1\" class=\"dataframe\">\n",
              "  <thead>\n",
              "    <tr style=\"text-align: right;\">\n",
              "      <th></th>\n",
              "      <th>v1</th>\n",
              "      <th>v2</th>\n",
              "      <th>v3</th>\n",
              "      <th>v4</th>\n",
              "      <th>v5</th>\n",
              "      <th>v6</th>\n",
              "      <th>v7</th>\n",
              "      <th>v8</th>\n",
              "      <th>v9</th>\n",
              "      <th>v10</th>\n",
              "      <th>...</th>\n",
              "      <th>v72</th>\n",
              "      <th>v73</th>\n",
              "      <th>v74</th>\n",
              "      <th>v75</th>\n",
              "      <th>v76</th>\n",
              "      <th>v77</th>\n",
              "      <th>v78</th>\n",
              "      <th>v79</th>\n",
              "      <th>v80</th>\n",
              "      <th>G</th>\n",
              "    </tr>\n",
              "  </thead>\n",
              "  <tbody>\n",
              "    <tr>\n",
              "      <th>0</th>\n",
              "      <td>6.059313</td>\n",
              "      <td>-1.855521</td>\n",
              "      <td>-17.162673</td>\n",
              "      <td>11.044343</td>\n",
              "      <td>-23.341780</td>\n",
              "      <td>-42.520243</td>\n",
              "      <td>53.133029</td>\n",
              "      <td>17.829904</td>\n",
              "      <td>15.312515</td>\n",
              "      <td>46.026926</td>\n",
              "      <td>...</td>\n",
              "      <td>18.143563</td>\n",
              "      <td>-14.173505</td>\n",
              "      <td>-12.908814</td>\n",
              "      <td>-30.324509</td>\n",
              "      <td>11.314424</td>\n",
              "      <td>35.557165</td>\n",
              "      <td>18.456091</td>\n",
              "      <td>7.427282</td>\n",
              "      <td>-30.388955</td>\n",
              "      <td>1</td>\n",
              "    </tr>\n",
              "    <tr>\n",
              "      <th>1</th>\n",
              "      <td>11.853664</td>\n",
              "      <td>-1.287746</td>\n",
              "      <td>-26.281267</td>\n",
              "      <td>-21.672478</td>\n",
              "      <td>0.978450</td>\n",
              "      <td>-19.722558</td>\n",
              "      <td>-45.017433</td>\n",
              "      <td>19.227115</td>\n",
              "      <td>34.183479</td>\n",
              "      <td>65.385567</td>\n",
              "      <td>...</td>\n",
              "      <td>1.447923</td>\n",
              "      <td>-4.507531</td>\n",
              "      <td>-5.578855</td>\n",
              "      <td>3.159857</td>\n",
              "      <td>30.422340</td>\n",
              "      <td>34.115070</td>\n",
              "      <td>18.175637</td>\n",
              "      <td>7.389731</td>\n",
              "      <td>-29.035627</td>\n",
              "      <td>3</td>\n",
              "    </tr>\n",
              "    <tr>\n",
              "      <th>2</th>\n",
              "      <td>7.770431</td>\n",
              "      <td>-6.649831</td>\n",
              "      <td>-18.138106</td>\n",
              "      <td>-9.144086</td>\n",
              "      <td>-6.882682</td>\n",
              "      <td>-50.593063</td>\n",
              "      <td>-7.432258</td>\n",
              "      <td>18.870878</td>\n",
              "      <td>32.183995</td>\n",
              "      <td>-15.468149</td>\n",
              "      <td>...</td>\n",
              "      <td>17.018063</td>\n",
              "      <td>-6.249020</td>\n",
              "      <td>-21.093471</td>\n",
              "      <td>-11.894213</td>\n",
              "      <td>30.611333</td>\n",
              "      <td>-9.326853</td>\n",
              "      <td>11.518727</td>\n",
              "      <td>39.650201</td>\n",
              "      <td>-28.201074</td>\n",
              "      <td>3</td>\n",
              "    </tr>\n",
              "    <tr>\n",
              "      <th>3</th>\n",
              "      <td>9.634201</td>\n",
              "      <td>18.295676</td>\n",
              "      <td>-1.251677</td>\n",
              "      <td>-5.454505</td>\n",
              "      <td>-10.419025</td>\n",
              "      <td>-15.419516</td>\n",
              "      <td>3.636486</td>\n",
              "      <td>14.139482</td>\n",
              "      <td>19.376166</td>\n",
              "      <td>-1.363523</td>\n",
              "      <td>...</td>\n",
              "      <td>5.788373</td>\n",
              "      <td>13.385526</td>\n",
              "      <td>-0.883430</td>\n",
              "      <td>-28.111708</td>\n",
              "      <td>7.078885</td>\n",
              "      <td>24.275838</td>\n",
              "      <td>23.820348</td>\n",
              "      <td>-2.653444</td>\n",
              "      <td>-26.810639</td>\n",
              "      <td>1</td>\n",
              "    </tr>\n",
              "    <tr>\n",
              "      <th>4</th>\n",
              "      <td>9.693239</td>\n",
              "      <td>-2.421079</td>\n",
              "      <td>-10.350603</td>\n",
              "      <td>-9.555780</td>\n",
              "      <td>14.607057</td>\n",
              "      <td>13.658101</td>\n",
              "      <td>-8.667340</td>\n",
              "      <td>20.476363</td>\n",
              "      <td>27.179034</td>\n",
              "      <td>42.885804</td>\n",
              "      <td>...</td>\n",
              "      <td>4.913177</td>\n",
              "      <td>-16.022962</td>\n",
              "      <td>-20.864255</td>\n",
              "      <td>-17.932962</td>\n",
              "      <td>20.897679</td>\n",
              "      <td>-5.641990</td>\n",
              "      <td>7.759069</td>\n",
              "      <td>-1.067956</td>\n",
              "      <td>-24.843948</td>\n",
              "      <td>1</td>\n",
              "    </tr>\n",
              "    <tr>\n",
              "      <th>...</th>\n",
              "      <td>...</td>\n",
              "      <td>...</td>\n",
              "      <td>...</td>\n",
              "      <td>...</td>\n",
              "      <td>...</td>\n",
              "      <td>...</td>\n",
              "      <td>...</td>\n",
              "      <td>...</td>\n",
              "      <td>...</td>\n",
              "      <td>...</td>\n",
              "      <td>...</td>\n",
              "      <td>...</td>\n",
              "      <td>...</td>\n",
              "      <td>...</td>\n",
              "      <td>...</td>\n",
              "      <td>...</td>\n",
              "      <td>...</td>\n",
              "      <td>...</td>\n",
              "      <td>...</td>\n",
              "      <td>...</td>\n",
              "      <td>...</td>\n",
              "    </tr>\n",
              "    <tr>\n",
              "      <th>1395</th>\n",
              "      <td>13.093231</td>\n",
              "      <td>-3.841812</td>\n",
              "      <td>-31.574344</td>\n",
              "      <td>-19.366295</td>\n",
              "      <td>12.349862</td>\n",
              "      <td>-8.109772</td>\n",
              "      <td>-38.098884</td>\n",
              "      <td>12.164525</td>\n",
              "      <td>9.914687</td>\n",
              "      <td>37.743749</td>\n",
              "      <td>...</td>\n",
              "      <td>8.203809</td>\n",
              "      <td>3.948609</td>\n",
              "      <td>-19.115411</td>\n",
              "      <td>19.979700</td>\n",
              "      <td>25.287128</td>\n",
              "      <td>15.830407</td>\n",
              "      <td>20.846346</td>\n",
              "      <td>22.376578</td>\n",
              "      <td>76.898678</td>\n",
              "      <td>1</td>\n",
              "    </tr>\n",
              "    <tr>\n",
              "      <th>1396</th>\n",
              "      <td>12.142872</td>\n",
              "      <td>12.482686</td>\n",
              "      <td>3.818097</td>\n",
              "      <td>-9.440888</td>\n",
              "      <td>-27.774032</td>\n",
              "      <td>-47.837485</td>\n",
              "      <td>-8.322664</td>\n",
              "      <td>-1.228660</td>\n",
              "      <td>32.247943</td>\n",
              "      <td>31.930054</td>\n",
              "      <td>...</td>\n",
              "      <td>9.636445</td>\n",
              "      <td>-14.281234</td>\n",
              "      <td>-9.964427</td>\n",
              "      <td>8.848576</td>\n",
              "      <td>45.356607</td>\n",
              "      <td>11.322087</td>\n",
              "      <td>-9.787732</td>\n",
              "      <td>4.541500</td>\n",
              "      <td>79.154225</td>\n",
              "      <td>1</td>\n",
              "    </tr>\n",
              "    <tr>\n",
              "      <th>1397</th>\n",
              "      <td>4.644531</td>\n",
              "      <td>9.041294</td>\n",
              "      <td>5.761300</td>\n",
              "      <td>-19.282417</td>\n",
              "      <td>-2.181760</td>\n",
              "      <td>-59.122741</td>\n",
              "      <td>-37.847250</td>\n",
              "      <td>25.224062</td>\n",
              "      <td>-26.323112</td>\n",
              "      <td>36.524298</td>\n",
              "      <td>...</td>\n",
              "      <td>-4.145583</td>\n",
              "      <td>-26.408232</td>\n",
              "      <td>-15.694540</td>\n",
              "      <td>-12.970088</td>\n",
              "      <td>15.757011</td>\n",
              "      <td>40.161573</td>\n",
              "      <td>42.421629</td>\n",
              "      <td>42.952213</td>\n",
              "      <td>85.032471</td>\n",
              "      <td>1</td>\n",
              "    </tr>\n",
              "    <tr>\n",
              "      <th>1398</th>\n",
              "      <td>9.363536</td>\n",
              "      <td>12.533379</td>\n",
              "      <td>-6.838237</td>\n",
              "      <td>-30.175139</td>\n",
              "      <td>-29.440737</td>\n",
              "      <td>-28.805840</td>\n",
              "      <td>-70.525417</td>\n",
              "      <td>-3.745504</td>\n",
              "      <td>49.071180</td>\n",
              "      <td>17.408084</td>\n",
              "      <td>...</td>\n",
              "      <td>0.151256</td>\n",
              "      <td>-12.667154</td>\n",
              "      <td>0.781810</td>\n",
              "      <td>-22.384279</td>\n",
              "      <td>11.230092</td>\n",
              "      <td>27.710772</td>\n",
              "      <td>14.908584</td>\n",
              "      <td>26.325615</td>\n",
              "      <td>88.166954</td>\n",
              "      <td>1</td>\n",
              "    </tr>\n",
              "    <tr>\n",
              "      <th>1399</th>\n",
              "      <td>11.184674</td>\n",
              "      <td>-0.469269</td>\n",
              "      <td>-12.452354</td>\n",
              "      <td>-2.012772</td>\n",
              "      <td>18.570408</td>\n",
              "      <td>-7.752303</td>\n",
              "      <td>13.961684</td>\n",
              "      <td>6.238201</td>\n",
              "      <td>6.060482</td>\n",
              "      <td>27.222259</td>\n",
              "      <td>...</td>\n",
              "      <td>0.019198</td>\n",
              "      <td>20.609916</td>\n",
              "      <td>-17.239942</td>\n",
              "      <td>17.418301</td>\n",
              "      <td>27.492175</td>\n",
              "      <td>18.589927</td>\n",
              "      <td>7.182120</td>\n",
              "      <td>21.427884</td>\n",
              "      <td>98.364936</td>\n",
              "      <td>3</td>\n",
              "    </tr>\n",
              "  </tbody>\n",
              "</table>\n",
              "<p>1400 rows × 81 columns</p>\n",
              "</div>\n",
              "      <button class=\"colab-df-convert\" onclick=\"convertToInteractive('df-57dc84d6-9034-469b-af66-bf9883913edf')\"\n",
              "              title=\"Convert this dataframe to an interactive table.\"\n",
              "              style=\"display:none;\">\n",
              "        \n",
              "  <svg xmlns=\"http://www.w3.org/2000/svg\" height=\"24px\"viewBox=\"0 0 24 24\"\n",
              "       width=\"24px\">\n",
              "    <path d=\"M0 0h24v24H0V0z\" fill=\"none\"/>\n",
              "    <path d=\"M18.56 5.44l.94 2.06.94-2.06 2.06-.94-2.06-.94-.94-2.06-.94 2.06-2.06.94zm-11 1L8.5 8.5l.94-2.06 2.06-.94-2.06-.94L8.5 2.5l-.94 2.06-2.06.94zm10 10l.94 2.06.94-2.06 2.06-.94-2.06-.94-.94-2.06-.94 2.06-2.06.94z\"/><path d=\"M17.41 7.96l-1.37-1.37c-.4-.4-.92-.59-1.43-.59-.52 0-1.04.2-1.43.59L10.3 9.45l-7.72 7.72c-.78.78-.78 2.05 0 2.83L4 21.41c.39.39.9.59 1.41.59.51 0 1.02-.2 1.41-.59l7.78-7.78 2.81-2.81c.8-.78.8-2.07 0-2.86zM5.41 20L4 18.59l7.72-7.72 1.47 1.35L5.41 20z\"/>\n",
              "  </svg>\n",
              "      </button>\n",
              "      \n",
              "  <style>\n",
              "    .colab-df-container {\n",
              "      display:flex;\n",
              "      flex-wrap:wrap;\n",
              "      gap: 12px;\n",
              "    }\n",
              "\n",
              "    .colab-df-convert {\n",
              "      background-color: #E8F0FE;\n",
              "      border: none;\n",
              "      border-radius: 50%;\n",
              "      cursor: pointer;\n",
              "      display: none;\n",
              "      fill: #1967D2;\n",
              "      height: 32px;\n",
              "      padding: 0 0 0 0;\n",
              "      width: 32px;\n",
              "    }\n",
              "\n",
              "    .colab-df-convert:hover {\n",
              "      background-color: #E2EBFA;\n",
              "      box-shadow: 0px 1px 2px rgba(60, 64, 67, 0.3), 0px 1px 3px 1px rgba(60, 64, 67, 0.15);\n",
              "      fill: #174EA6;\n",
              "    }\n",
              "\n",
              "    [theme=dark] .colab-df-convert {\n",
              "      background-color: #3B4455;\n",
              "      fill: #D2E3FC;\n",
              "    }\n",
              "\n",
              "    [theme=dark] .colab-df-convert:hover {\n",
              "      background-color: #434B5C;\n",
              "      box-shadow: 0px 1px 3px 1px rgba(0, 0, 0, 0.15);\n",
              "      filter: drop-shadow(0px 1px 2px rgba(0, 0, 0, 0.3));\n",
              "      fill: #FFFFFF;\n",
              "    }\n",
              "  </style>\n",
              "\n",
              "      <script>\n",
              "        const buttonEl =\n",
              "          document.querySelector('#df-57dc84d6-9034-469b-af66-bf9883913edf button.colab-df-convert');\n",
              "        buttonEl.style.display =\n",
              "          google.colab.kernel.accessAllowed ? 'block' : 'none';\n",
              "\n",
              "        async function convertToInteractive(key) {\n",
              "          const element = document.querySelector('#df-57dc84d6-9034-469b-af66-bf9883913edf');\n",
              "          const dataTable =\n",
              "            await google.colab.kernel.invokeFunction('convertToInteractive',\n",
              "                                                     [key], {});\n",
              "          if (!dataTable) return;\n",
              "\n",
              "          const docLinkHtml = 'Like what you see? Visit the ' +\n",
              "            '<a target=\"_blank\" href=https://colab.research.google.com/notebooks/data_table.ipynb>data table notebook</a>'\n",
              "            + ' to learn more about interactive tables.';\n",
              "          element.innerHTML = '';\n",
              "          dataTable['output_type'] = 'display_data';\n",
              "          await google.colab.output.renderOutput(dataTable, element);\n",
              "          const docLink = document.createElement('div');\n",
              "          docLink.innerHTML = docLinkHtml;\n",
              "          element.appendChild(docLink);\n",
              "        }\n",
              "      </script>\n",
              "    </div>\n",
              "  </div>\n",
              "  "
            ]
          },
          "metadata": {},
          "execution_count": 2
        }
      ]
    },
    {
      "cell_type": "markdown",
      "source": [
        "Вывод таблицы соответствующего варианата"
      ],
      "metadata": {
        "id": "blElkfPl36Ee"
      }
    },
    {
      "cell_type": "code",
      "source": [
        "ds=ds0[['v46','G']].rename({'v46':'s46', 'G':'FACTOR'}, axis=1)\n",
        "ds"
      ],
      "metadata": {
        "colab": {
          "base_uri": "https://localhost:8080/",
          "height": 423
        },
        "id": "8FOCPL4mHFbN",
        "outputId": "d37698ea-5799-414f-d433-4446bb374e66"
      },
      "execution_count": null,
      "outputs": [
        {
          "output_type": "execute_result",
          "data": {
            "text/plain": [
              "            s46  FACTOR\n",
              "0     -4.331135       1\n",
              "1      1.839309       3\n",
              "2    -41.680399       3\n",
              "3     30.815378       1\n",
              "4    -10.796961       1\n",
              "...         ...     ...\n",
              "1395  15.071365       1\n",
              "1396   3.435972       1\n",
              "1397  15.376910       1\n",
              "1398   1.086793       1\n",
              "1399   9.560100       3\n",
              "\n",
              "[1400 rows x 2 columns]"
            ],
            "text/html": [
              "\n",
              "  <div id=\"df-44d6bc22-909f-4840-aadb-c87d8d7a856a\">\n",
              "    <div class=\"colab-df-container\">\n",
              "      <div>\n",
              "<style scoped>\n",
              "    .dataframe tbody tr th:only-of-type {\n",
              "        vertical-align: middle;\n",
              "    }\n",
              "\n",
              "    .dataframe tbody tr th {\n",
              "        vertical-align: top;\n",
              "    }\n",
              "\n",
              "    .dataframe thead th {\n",
              "        text-align: right;\n",
              "    }\n",
              "</style>\n",
              "<table border=\"1\" class=\"dataframe\">\n",
              "  <thead>\n",
              "    <tr style=\"text-align: right;\">\n",
              "      <th></th>\n",
              "      <th>s46</th>\n",
              "      <th>FACTOR</th>\n",
              "    </tr>\n",
              "  </thead>\n",
              "  <tbody>\n",
              "    <tr>\n",
              "      <th>0</th>\n",
              "      <td>-4.331135</td>\n",
              "      <td>1</td>\n",
              "    </tr>\n",
              "    <tr>\n",
              "      <th>1</th>\n",
              "      <td>1.839309</td>\n",
              "      <td>3</td>\n",
              "    </tr>\n",
              "    <tr>\n",
              "      <th>2</th>\n",
              "      <td>-41.680399</td>\n",
              "      <td>3</td>\n",
              "    </tr>\n",
              "    <tr>\n",
              "      <th>3</th>\n",
              "      <td>30.815378</td>\n",
              "      <td>1</td>\n",
              "    </tr>\n",
              "    <tr>\n",
              "      <th>4</th>\n",
              "      <td>-10.796961</td>\n",
              "      <td>1</td>\n",
              "    </tr>\n",
              "    <tr>\n",
              "      <th>...</th>\n",
              "      <td>...</td>\n",
              "      <td>...</td>\n",
              "    </tr>\n",
              "    <tr>\n",
              "      <th>1395</th>\n",
              "      <td>15.071365</td>\n",
              "      <td>1</td>\n",
              "    </tr>\n",
              "    <tr>\n",
              "      <th>1396</th>\n",
              "      <td>3.435972</td>\n",
              "      <td>1</td>\n",
              "    </tr>\n",
              "    <tr>\n",
              "      <th>1397</th>\n",
              "      <td>15.376910</td>\n",
              "      <td>1</td>\n",
              "    </tr>\n",
              "    <tr>\n",
              "      <th>1398</th>\n",
              "      <td>1.086793</td>\n",
              "      <td>1</td>\n",
              "    </tr>\n",
              "    <tr>\n",
              "      <th>1399</th>\n",
              "      <td>9.560100</td>\n",
              "      <td>3</td>\n",
              "    </tr>\n",
              "  </tbody>\n",
              "</table>\n",
              "<p>1400 rows × 2 columns</p>\n",
              "</div>\n",
              "      <button class=\"colab-df-convert\" onclick=\"convertToInteractive('df-44d6bc22-909f-4840-aadb-c87d8d7a856a')\"\n",
              "              title=\"Convert this dataframe to an interactive table.\"\n",
              "              style=\"display:none;\">\n",
              "        \n",
              "  <svg xmlns=\"http://www.w3.org/2000/svg\" height=\"24px\"viewBox=\"0 0 24 24\"\n",
              "       width=\"24px\">\n",
              "    <path d=\"M0 0h24v24H0V0z\" fill=\"none\"/>\n",
              "    <path d=\"M18.56 5.44l.94 2.06.94-2.06 2.06-.94-2.06-.94-.94-2.06-.94 2.06-2.06.94zm-11 1L8.5 8.5l.94-2.06 2.06-.94-2.06-.94L8.5 2.5l-.94 2.06-2.06.94zm10 10l.94 2.06.94-2.06 2.06-.94-2.06-.94-.94-2.06-.94 2.06-2.06.94z\"/><path d=\"M17.41 7.96l-1.37-1.37c-.4-.4-.92-.59-1.43-.59-.52 0-1.04.2-1.43.59L10.3 9.45l-7.72 7.72c-.78.78-.78 2.05 0 2.83L4 21.41c.39.39.9.59 1.41.59.51 0 1.02-.2 1.41-.59l7.78-7.78 2.81-2.81c.8-.78.8-2.07 0-2.86zM5.41 20L4 18.59l7.72-7.72 1.47 1.35L5.41 20z\"/>\n",
              "  </svg>\n",
              "      </button>\n",
              "      \n",
              "  <style>\n",
              "    .colab-df-container {\n",
              "      display:flex;\n",
              "      flex-wrap:wrap;\n",
              "      gap: 12px;\n",
              "    }\n",
              "\n",
              "    .colab-df-convert {\n",
              "      background-color: #E8F0FE;\n",
              "      border: none;\n",
              "      border-radius: 50%;\n",
              "      cursor: pointer;\n",
              "      display: none;\n",
              "      fill: #1967D2;\n",
              "      height: 32px;\n",
              "      padding: 0 0 0 0;\n",
              "      width: 32px;\n",
              "    }\n",
              "\n",
              "    .colab-df-convert:hover {\n",
              "      background-color: #E2EBFA;\n",
              "      box-shadow: 0px 1px 2px rgba(60, 64, 67, 0.3), 0px 1px 3px 1px rgba(60, 64, 67, 0.15);\n",
              "      fill: #174EA6;\n",
              "    }\n",
              "\n",
              "    [theme=dark] .colab-df-convert {\n",
              "      background-color: #3B4455;\n",
              "      fill: #D2E3FC;\n",
              "    }\n",
              "\n",
              "    [theme=dark] .colab-df-convert:hover {\n",
              "      background-color: #434B5C;\n",
              "      box-shadow: 0px 1px 3px 1px rgba(0, 0, 0, 0.15);\n",
              "      filter: drop-shadow(0px 1px 2px rgba(0, 0, 0, 0.3));\n",
              "      fill: #FFFFFF;\n",
              "    }\n",
              "  </style>\n",
              "\n",
              "      <script>\n",
              "        const buttonEl =\n",
              "          document.querySelector('#df-44d6bc22-909f-4840-aadb-c87d8d7a856a button.colab-df-convert');\n",
              "        buttonEl.style.display =\n",
              "          google.colab.kernel.accessAllowed ? 'block' : 'none';\n",
              "\n",
              "        async function convertToInteractive(key) {\n",
              "          const element = document.querySelector('#df-44d6bc22-909f-4840-aadb-c87d8d7a856a');\n",
              "          const dataTable =\n",
              "            await google.colab.kernel.invokeFunction('convertToInteractive',\n",
              "                                                     [key], {});\n",
              "          if (!dataTable) return;\n",
              "\n",
              "          const docLinkHtml = 'Like what you see? Visit the ' +\n",
              "            '<a target=\"_blank\" href=https://colab.research.google.com/notebooks/data_table.ipynb>data table notebook</a>'\n",
              "            + ' to learn more about interactive tables.';\n",
              "          element.innerHTML = '';\n",
              "          dataTable['output_type'] = 'display_data';\n",
              "          await google.colab.output.renderOutput(dataTable, element);\n",
              "          const docLink = document.createElement('div');\n",
              "          docLink.innerHTML = docLinkHtml;\n",
              "          element.appendChild(docLink);\n",
              "        }\n",
              "      </script>\n",
              "    </div>\n",
              "  </div>\n",
              "  "
            ]
          },
          "metadata": {},
          "execution_count": 3
        }
      ]
    },
    {
      "cell_type": "markdown",
      "source": [
        "Из объедененной выборки выделим 4 независимые выборки в соответветсвии с уровнями FACTOR."
      ],
      "metadata": {
        "id": "NboWDxcoLzbp"
      }
    },
    {
      "cell_type": "code",
      "source": [
        "sample1 = ds.s46[ds.FACTOR == 1]\n",
        "sample1"
      ],
      "metadata": {
        "id": "QFvw6-MzH55f",
        "colab": {
          "base_uri": "https://localhost:8080/"
        },
        "outputId": "f6870d7d-8422-43e6-f8b8-cccefe78c2b9"
      },
      "execution_count": null,
      "outputs": [
        {
          "output_type": "execute_result",
          "data": {
            "text/plain": [
              "0       -4.331135\n",
              "3       30.815378\n",
              "4      -10.796961\n",
              "6        8.926205\n",
              "10      -9.678828\n",
              "          ...    \n",
              "1393    31.125561\n",
              "1395    15.071365\n",
              "1396     3.435972\n",
              "1397    15.376910\n",
              "1398     1.086793\n",
              "Name: s46, Length: 350, dtype: float64"
            ]
          },
          "metadata": {},
          "execution_count": 4
        }
      ]
    },
    {
      "cell_type": "code",
      "source": [
        "sample2 = ds.s46[ds.FACTOR == 2]\n",
        "sample2"
      ],
      "metadata": {
        "colab": {
          "base_uri": "https://localhost:8080/"
        },
        "id": "CHb33cNK6qL0",
        "outputId": "7c49164b-470d-490c-efb5-46f0f1787dbd"
      },
      "execution_count": null,
      "outputs": [
        {
          "output_type": "execute_result",
          "data": {
            "text/plain": [
              "7       35.605507\n",
              "29       6.219709\n",
              "30      -6.193126\n",
              "31     -54.401882\n",
              "32       1.916302\n",
              "          ...    \n",
              "1381    -4.913052\n",
              "1385   -39.111907\n",
              "1388    -3.423585\n",
              "1391    36.904538\n",
              "1392    27.917898\n",
              "Name: s46, Length: 350, dtype: float64"
            ]
          },
          "metadata": {},
          "execution_count": 5
        }
      ]
    },
    {
      "cell_type": "code",
      "source": [
        "sample3 = ds.s46[ds.FACTOR == 3]\n",
        "sample3"
      ],
      "metadata": {
        "colab": {
          "base_uri": "https://localhost:8080/"
        },
        "id": "v2xUmp9r6ztb",
        "outputId": "39cdf4c7-e82c-47e8-916e-dd7d7fca29eb"
      },
      "execution_count": null,
      "outputs": [
        {
          "output_type": "execute_result",
          "data": {
            "text/plain": [
              "1        1.839309\n",
              "2      -41.680399\n",
              "5       -8.761102\n",
              "8       28.305127\n",
              "9       -9.663958\n",
              "          ...    \n",
              "1384    17.259177\n",
              "1389     8.046951\n",
              "1390    15.253287\n",
              "1394    -6.898775\n",
              "1399     9.560100\n",
              "Name: s46, Length: 350, dtype: float64"
            ]
          },
          "metadata": {},
          "execution_count": 6
        }
      ]
    },
    {
      "cell_type": "code",
      "source": [
        "sample4 = ds.s46[ds.FACTOR == 4]\n",
        "sample4"
      ],
      "metadata": {
        "colab": {
          "base_uri": "https://localhost:8080/"
        },
        "id": "JVBlqLDi60Ua",
        "outputId": "2d2bddef-d25f-4c84-890b-828078764206"
      },
      "execution_count": null,
      "outputs": [
        {
          "output_type": "execute_result",
          "data": {
            "text/plain": [
              "169     17.834437\n",
              "171     16.750420\n",
              "174     11.066652\n",
              "175     22.577929\n",
              "176     18.970641\n",
              "          ...    \n",
              "1225    10.903684\n",
              "1229     8.742058\n",
              "1230    14.521043\n",
              "1235    14.560411\n",
              "1239    -1.709006\n",
              "Name: s46, Length: 350, dtype: float64"
            ]
          },
          "metadata": {},
          "execution_count": 7
        }
      ]
    },
    {
      "cell_type": "markdown",
      "source": [
        "# Визуализация данных"
      ],
      "metadata": {
        "id": "7TMnQkT17SK3"
      }
    },
    {
      "cell_type": "markdown",
      "source": [
        "Для каждой из четырех выборок с помощью гистограммы и квантильного графика  проанализируем, можно ли использовать нормальное распределение для описания исследуемого показателя, определенного на соответствующей генеральной совокупности."
      ],
      "metadata": {
        "id": "PU2Ycby3Q9mM"
      }
    },
    {
      "cell_type": "markdown",
      "source": [
        "## Выборка 1"
      ],
      "metadata": {
        "id": "IeJ35ue27lv7"
      }
    },
    {
      "cell_type": "markdown",
      "source": [
        "Построим эмпирическую кривую с наложенной на нее кривой нормального распределения."
      ],
      "metadata": {
        "id": "mH7t2ICmNBJc"
      }
    },
    {
      "cell_type": "code",
      "source": [
        "plt.title(\"Гистограмма\")\n",
        "plt.ylabel(\"Относительная частота\")\n",
        "plt.xlabel(\"Выборочные значения\")\n",
        "x = np.linspace(np.mean(sample1) - 5*np.std(sample1), np.mean(sample1) + 5*np.std(sample1), 100)\n",
        "plt.plot(x, stats.norm.pdf(x, np.mean(sample1), np.std(sample1)))\n",
        "sample1.plot.kde()"
      ],
      "metadata": {
        "colab": {
          "base_uri": "https://localhost:8080/",
          "height": 489
        },
        "id": "07i9DrzT_klL",
        "outputId": "eb4407e9-42e0-4d16-fd4f-90b00f03b155"
      },
      "execution_count": null,
      "outputs": [
        {
          "output_type": "execute_result",
          "data": {
            "text/plain": [
              "<Axes: title={'center': 'Гистограмма'}, xlabel='Выборочные значения', ylabel='Density'>"
            ]
          },
          "metadata": {},
          "execution_count": 8
        },
        {
          "output_type": "display_data",
          "data": {
            "text/plain": [
              "<Figure size 640x480 with 1 Axes>"
            ],
            "image/png": "[encoded data removed]"
          },
          "metadata": {}
        }
      ]
    },
    {
      "cell_type": "markdown",
      "source": [
        "Эмпирическая кривая плотности близка к линии плотности нормального распределения. Нормальное распределение подходит для описания исследуемого показателя первой генеральной совокупности."
      ],
      "metadata": {
        "id": "_pmIrsNzCKNO"
      }
    },
    {
      "cell_type": "markdown",
      "source": [
        "Построим квантильный график."
      ],
      "metadata": {
        "id": "WvN2-zTqLqqQ"
      }
    },
    {
      "cell_type": "code",
      "source": [
        "res = stats.probplot(sample1, plot=plt)\n",
        "plt.title(\"Квантильный график\")\n",
        "plt.ylabel(\"Выборочные квантили\")\n",
        "plt.xlabel(\"Нормальные квантили\")\n",
        "plt.show()"
      ],
      "metadata": {
        "colab": {
          "base_uri": "https://localhost:8080/",
          "height": 472
        },
        "id": "3Z2X29LgDQtr",
        "outputId": "01f70d63-4d24-4041-8642-2eceea6a91fd"
      },
      "execution_count": null,
      "outputs": [
        {
          "output_type": "display_data",
          "data": {
            "text/plain": [
              "<Figure size 640x480 with 1 Axes>"
            ],
            "image/png": "[encoded data removed]"
          },
          "metadata": {}
        }
      ]
    },
    {
      "cell_type": "markdown",
      "source": [
        "Большая часть выборочных квантилей совпадает с квантилям нормального распределения. Нормальное распределение подходит для описания исследуемого показателя первой генеральной совокупности."
      ],
      "metadata": {
        "id": "dTUMZqD5bmY1"
      }
    },
    {
      "cell_type": "markdown",
      "source": [
        "Анализ диаграмм показал, что для данной выборки нормальное распределение подходит для описания исследуемого показателя."
      ],
      "metadata": {
        "id": "xzk9hSbu9avi"
      }
    },
    {
      "cell_type": "markdown",
      "source": [
        "## Выборка 2"
      ],
      "metadata": {
        "id": "YvzA6Lz07wQH"
      }
    },
    {
      "cell_type": "markdown",
      "source": [
        "Построим эмпирическую с наложенной на нее кривой нормального распределения."
      ],
      "metadata": {
        "id": "4HydJibBNRfW"
      }
    },
    {
      "cell_type": "code",
      "source": [
        "sample2.plot.kde()\n",
        "plt.title(\"Гистограмма\")\n",
        "plt.ylabel(\"Относительная частота\")\n",
        "plt.xlabel(\"Выборочные значения\")\n",
        "x = np.linspace(np.mean(sample2) - 5*np.std(sample2), np.mean(sample2) + 5*np.std(sample2), 100)\n",
        "plt.plot(x, stats.norm.pdf(x, np.mean(sample2), np.std(sample2)))"
      ],
      "metadata": {
        "colab": {
          "base_uri": "https://localhost:8080/",
          "height": 489
        },
        "id": "2dRiUQGGESNN",
        "outputId": "4f36a213-4fcc-48a7-f4d0-af447bdd5161"
      },
      "execution_count": null,
      "outputs": [
        {
          "output_type": "execute_result",
          "data": {
            "text/plain": [
              "[<matplotlib.lines.Line2D at 0x7f3e900327d0>]"
            ]
          },
          "metadata": {},
          "execution_count": 10
        },
        {
          "output_type": "display_data",
          "data": {
            "text/plain": [
              "<Figure size 640x480 with 1 Axes>"
            ],
            "image/png": "[encoded data removed]"
          },
          "metadata": {}
        }
      ]
    },
    {
      "cell_type": "markdown",
      "source": [
        "Эмпирическая кривая плотности близка к линии плотности нормального распределения. Нормальное распределение подходит для описания исследуемого показателя второй генеральной совокупности."
      ],
      "metadata": {
        "id": "OKkfRVvST_Lg"
      }
    },
    {
      "cell_type": "markdown",
      "source": [
        "Построим квантильный график."
      ],
      "metadata": {
        "id": "DS_rxxqONctM"
      }
    },
    {
      "cell_type": "code",
      "source": [
        "res = stats.probplot(sample2, plot=plt)\n",
        "plt.title(\"Квантильный график\")\n",
        "plt.ylabel(\"Выборочные квантили\")\n",
        "plt.xlabel(\"Нормальные квантили\")\n",
        "plt.show()"
      ],
      "metadata": {
        "colab": {
          "base_uri": "https://localhost:8080/",
          "height": 472
        },
        "id": "v1_umWV5UmD-",
        "outputId": "aa80b0db-00e9-4b11-b983-e7212abb346f"
      },
      "execution_count": null,
      "outputs": [
        {
          "output_type": "display_data",
          "data": {
            "text/plain": [
              "<Figure size 640x480 with 1 Axes>"
            ],
            "image/png": "[encoded data removed]"
          },
          "metadata": {}
        }
      ]
    },
    {
      "cell_type": "markdown",
      "source": [
        "Большая часть выборочных квантилей совпадает с квантилям нормального распределения. Нормальное распределение подходит для описания исследуемого показателя второй генеральной совокупности."
      ],
      "metadata": {
        "id": "EbX_YPjYbcYp"
      }
    },
    {
      "cell_type": "markdown",
      "source": [
        "Анализ диаграмм показал, что для данной выборки нормальное распределение подоходит для описания исследуемого показателя."
      ],
      "metadata": {
        "id": "Z5MYiwNiOqDu"
      }
    },
    {
      "cell_type": "markdown",
      "source": [
        "## Выборка 3"
      ],
      "metadata": {
        "id": "pbt5LWTo73fz"
      }
    },
    {
      "cell_type": "markdown",
      "source": [
        "Построим эмпирическую кривую с наложенной на нее кривой нормального распределения."
      ],
      "metadata": {
        "id": "w5cBt8b8NTvx"
      }
    },
    {
      "cell_type": "code",
      "source": [
        "sample3.plot.kde()\n",
        "plt.title(\"Гистограмма\")\n",
        "plt.ylabel(\"Относительная частота\")\n",
        "plt.xlabel(\"Выборочные значения\")\n",
        "x = np.linspace(np.mean(sample3) - 5*np.std(sample3), np.mean(sample3) + 5*np.std(sample3), 100)\n",
        "plt.plot(x, stats.norm.pdf(x, np.mean(sample3), np.std(sample3)))"
      ],
      "metadata": {
        "colab": {
          "base_uri": "https://localhost:8080/",
          "height": 489
        },
        "id": "3Q8j_QVZTrDn",
        "outputId": "d3c55588-6070-4500-e5ae-999316e1e9b5"
      },
      "execution_count": null,
      "outputs": [
        {
          "output_type": "execute_result",
          "data": {
            "text/plain": [
              "[<matplotlib.lines.Line2D at 0x7f3e8fdf6f80>]"
            ]
          },
          "metadata": {},
          "execution_count": 12
        },
        {
          "output_type": "display_data",
          "data": {
            "text/plain": [
              "<Figure size 640x480 with 1 Axes>"
            ],
            "image/png": "[encoded data removed]"
          },
          "metadata": {}
        }
      ]
    },
    {
      "cell_type": "markdown",
      "source": [
        "Эмпирическая кривая плотности близка к линии плотности нормального распределения. Нормальное распределение подходит для описания исследуемого показателя третьей генеральной совокупности."
      ],
      "metadata": {
        "id": "Lkay__drT6lp"
      }
    },
    {
      "cell_type": "markdown",
      "source": [
        "Построим квантильный график."
      ],
      "metadata": {
        "id": "GWmYMHS9NbX2"
      }
    },
    {
      "cell_type": "code",
      "source": [
        "res = stats.probplot(sample3, plot=plt)\n",
        "plt.title(\"Квантильный график\")\n",
        "plt.ylabel(\"Выборочные квантили\")\n",
        "plt.xlabel(\"Нормальные квантили\")\n",
        "plt.show()"
      ],
      "metadata": {
        "colab": {
          "base_uri": "https://localhost:8080/",
          "height": 472
        },
        "id": "DGAmuamHY8NX",
        "outputId": "7ab62ccd-fbfa-41a0-a9fb-e2f5ad513912"
      },
      "execution_count": null,
      "outputs": [
        {
          "output_type": "display_data",
          "data": {
            "text/plain": [
              "<Figure size 640x480 with 1 Axes>"
            ],
            "image/png": "[encoded data removed]"
          },
          "metadata": {}
        }
      ]
    },
    {
      "cell_type": "markdown",
      "source": [
        "Большая часть выборочных квантилей совпадает с квантилям нормального распределения. Нормальное распределение подходит для описания исследуемого показателя третьей генеральной совокупности."
      ],
      "metadata": {
        "id": "k6ekDcwXbGFc"
      }
    },
    {
      "cell_type": "markdown",
      "source": [
        "Анализ диаграмм показал, что для данной выборки нормальное распределение подоходит для описания исследуемого показателя."
      ],
      "metadata": {
        "id": "oaCroGF_OsGA"
      }
    },
    {
      "cell_type": "markdown",
      "source": [
        "## Выборка 4"
      ],
      "metadata": {
        "id": "OgNIRtz277W4"
      }
    },
    {
      "cell_type": "markdown",
      "source": [
        "Построим эмпирическую кривую с наложенной на нее кривой нормального распределения."
      ],
      "metadata": {
        "id": "fWMUORTDNUwB"
      }
    },
    {
      "cell_type": "code",
      "source": [
        "sample4.plot.kde()\n",
        "plt.title(\"Гистограмма\")\n",
        "plt.ylabel(\"Относительная частота\")\n",
        "plt.xlabel(\"Выборочные значения\")\n",
        "x = np.linspace(np.mean(sample4) - 5*np.std(sample4), np.mean(sample4) + 5*np.std(sample4), 100)\n",
        "plt.plot(x, stats.norm.pdf(x, np.mean(sample4), np.std(sample4)))"
      ],
      "metadata": {
        "colab": {
          "base_uri": "https://localhost:8080/",
          "height": 489
        },
        "id": "JlBLFlfYTxMB",
        "outputId": "8006dbd7-3fe3-495e-8185-4cd1b8955f83"
      },
      "execution_count": null,
      "outputs": [
        {
          "output_type": "execute_result",
          "data": {
            "text/plain": [
              "[<matplotlib.lines.Line2D at 0x7fafd06fdf60>]"
            ]
          },
          "metadata": {},
          "execution_count": 42
        },
        {
          "output_type": "display_data",
          "data": {
            "text/plain": [
              "<Figure size 640x480 with 1 Axes>"
            ],
            "image/png": "[encoded data removed]"
          },
          "metadata": {}
        }
      ]
    },
    {
      "cell_type": "markdown",
      "source": [
        "Эмпирическая кривая плотности не близка к линии плотности нормального распределения. Нормальное распределение не подходит для описания исследуемого показателя четвёртой генеральной совокупности."
      ],
      "metadata": {
        "id": "GoKaOUn7T1Au"
      }
    },
    {
      "cell_type": "markdown",
      "source": [
        "Построим квантильный график."
      ],
      "metadata": {
        "id": "KkHBvsj2NWT4"
      }
    },
    {
      "cell_type": "code",
      "source": [
        "res = stats.probplot(sample4, plot=plt)\n",
        "plt.title(\"Квантильный график\")\n",
        "plt.ylabel(\"Выборочные квантили\")\n",
        "plt.xlabel(\"Нормальные квантили\")\n",
        "plt.show()"
      ],
      "metadata": {
        "colab": {
          "base_uri": "https://localhost:8080/",
          "height": 472
        },
        "id": "d_aUZ1vLZD9O",
        "outputId": "b5615e92-6d2d-4ead-c4a6-f45e104cf4c7"
      },
      "execution_count": null,
      "outputs": [
        {
          "output_type": "display_data",
          "data": {
            "text/plain": [
              "<Figure size 640x480 with 1 Axes>"
            ],
            "image/png": "[encoded data removed]"
          },
          "metadata": {}
        }
      ]
    },
    {
      "cell_type": "markdown",
      "source": [
        "Выборочные квантили явно отклоняются от нормальных. Нормальное распределение не подходит для описания исследуемого показателя четвертой генеральной совокупности."
      ],
      "metadata": {
        "id": "2hLsa87-a6eh"
      }
    },
    {
      "cell_type": "markdown",
      "source": [
        "Анализ диаграмм показал, что для данной выборки нормальное распределение не подходит для описания исследуемого показателя."
      ],
      "metadata": {
        "id": "pseo-i2vOt0x"
      }
    },
    {
      "cell_type": "markdown",
      "source": [
        "## Итоги визуализации"
      ],
      "metadata": {
        "id": "_nW7frkhOdJF"
      }
    },
    {
      "cell_type": "markdown",
      "source": [
        "Анализ диаграмм и квантильных графиков показал, что для 3 первых генеральных совокупностей нормальное распределение подходит для описания исследуемого показателя, для четвертой генеральной совокупности нормальное распределение не подходит для описания исследуемого показателя."
      ],
      "metadata": {
        "id": "spsIIJxyRTJC"
      }
    },
    {
      "cell_type": "markdown",
      "source": [
        "# Использование тестов"
      ],
      "metadata": {
        "id": "5QpiB8nDJBro"
      }
    },
    {
      "cell_type": "markdown",
      "source": [
        "Проверим гипотезу о нормальном распределении с помощью тестов Шапиро-Уилка, Колмогорова-Смирнова, Крамера-Майзеса, Харке-Бера и Д'Агостино. Используем, соответственно, функции shapiro, jarque_bera, kstest, cramevonmises и normaltest пакета stats."
      ],
      "metadata": {
        "id": "mqZsRTNkQzcf"
      }
    },
    {
      "cell_type": "markdown",
      "source": [
        "## Выборка 1"
      ],
      "metadata": {
        "id": "0kzr2oC5PCxb"
      }
    },
    {
      "cell_type": "code",
      "source": [
        "stats.shapiro(sample1)"
      ],
      "metadata": {
        "colab": {
          "base_uri": "https://localhost:8080/"
        },
        "id": "_Fz99czDceha",
        "outputId": "8685cb76-8f33-45fe-dc0f-b653789a8cf4"
      },
      "execution_count": null,
      "outputs": [
        {
          "output_type": "execute_result",
          "data": {
            "text/plain": [
              "ShapiroResult(statistic=0.9959818720817566, pvalue=0.5173398852348328)"
            ]
          },
          "metadata": {},
          "execution_count": 17
        }
      ]
    },
    {
      "cell_type": "markdown",
      "source": [
        "p-значение pvalue больше уровня значимости 0,05. Гипотеза о нормальном распределении не отвергается."
      ],
      "metadata": {
        "id": "v5X9l86wy9NE"
      }
    },
    {
      "cell_type": "code",
      "source": [
        "stats.jarque_bera(sample1)"
      ],
      "metadata": {
        "colab": {
          "base_uri": "https://localhost:8080/"
        },
        "id": "45KfbaeJJvE2",
        "outputId": "7482c6ba-34f4-4a04-abbb-338a3761463e"
      },
      "execution_count": null,
      "outputs": [
        {
          "output_type": "execute_result",
          "data": {
            "text/plain": [
              "SignificanceResult(statistic=1.4775175931730318, pvalue=0.4777064786111903)"
            ]
          },
          "metadata": {},
          "execution_count": 15
        }
      ]
    },
    {
      "cell_type": "markdown",
      "source": [
        "p-значение pvalue больше уровня значимости 0,05. Гипотеза о нормальном распределении не отвергается."
      ],
      "metadata": {
        "id": "e3KlHj4ly97I"
      }
    },
    {
      "cell_type": "code",
      "source": [
        "stats.kstest(sample1, 'norm', (np.mean(sample1), np.std(sample1)))"
      ],
      "metadata": {
        "id": "za5CE_IwjSkE",
        "colab": {
          "base_uri": "https://localhost:8080/"
        },
        "outputId": "2f6f60f2-550b-4bc3-d834-45d605a76ab6"
      },
      "execution_count": null,
      "outputs": [
        {
          "output_type": "execute_result",
          "data": {
            "text/plain": [
              "KstestResult(statistic=0.02212606246284854, pvalue=0.9941053607595149, statistic_location=14.66948222310748, statistic_sign=-1)"
            ]
          },
          "metadata": {},
          "execution_count": 45
        }
      ]
    },
    {
      "cell_type": "markdown",
      "source": [
        "p-значение pvalue больше уровня значимости 0,05. Гипотеза о нормальном распределении не отвергается."
      ],
      "metadata": {
        "id": "MzhCvpVpKhU9"
      }
    },
    {
      "cell_type": "code",
      "source": [
        "stats.cramervonmises(sample1, 'norm', (np.mean(sample1), np.std(sample1)))"
      ],
      "metadata": {
        "id": "LxKJ9dF7jSeZ",
        "colab": {
          "base_uri": "https://localhost:8080/"
        },
        "outputId": "46de5dfb-0341-4f6a-8bfe-67c64fac5d7b"
      },
      "execution_count": null,
      "outputs": [
        {
          "output_type": "execute_result",
          "data": {
            "text/plain": [
              "CramerVonMisesResult(statistic=0.0169506902980391, pvalue=0.9990403335782705)"
            ]
          },
          "metadata": {},
          "execution_count": 42
        }
      ]
    },
    {
      "cell_type": "markdown",
      "source": [
        "p-значение pvalue больше уровня значимости 0,05. Гипотеза о нормальном распределении не отвергается."
      ],
      "metadata": {
        "id": "ysJ9bFqsKiKI"
      }
    },
    {
      "cell_type": "code",
      "source": [
        "stats.normaltest(sample1)"
      ],
      "metadata": {
        "id": "C5zuvZefjSTy",
        "colab": {
          "base_uri": "https://localhost:8080/"
        },
        "outputId": "6a271031-6bf5-4616-cb72-d2ba874c8b70"
      },
      "execution_count": null,
      "outputs": [
        {
          "output_type": "execute_result",
          "data": {
            "text/plain": [
              "NormaltestResult(statistic=1.4481448939324166, pvalue=0.48477401408851184)"
            ]
          },
          "metadata": {},
          "execution_count": 43
        }
      ]
    },
    {
      "cell_type": "markdown",
      "source": [
        "p-значение pvalue больше уровня значимости 0,05. Гипотеза о нормальном распределении не отвергается."
      ],
      "metadata": {
        "id": "axDVSJwhKi5m"
      }
    },
    {
      "cell_type": "markdown",
      "source": [
        "Все тесты показали, что для первой выборки гипотеза о нормальном распределении не отвергается."
      ],
      "metadata": {
        "id": "Qn3ZCqqIPioc"
      }
    },
    {
      "cell_type": "markdown",
      "source": [
        "## Выборка 2"
      ],
      "metadata": {
        "id": "ehoiMoBGPHLo"
      }
    },
    {
      "cell_type": "code",
      "source": [
        "stats.shapiro(sample2)"
      ],
      "metadata": {
        "colab": {
          "base_uri": "https://localhost:8080/"
        },
        "id": "imxNmXVtP3dm",
        "outputId": "f7426038-09ca-4797-8360-7b8e6ec0dd7b"
      },
      "execution_count": null,
      "outputs": [
        {
          "output_type": "execute_result",
          "data": {
            "text/plain": [
              "ShapiroResult(statistic=0.9956986904144287, pvalue=0.4532051980495453)"
            ]
          },
          "metadata": {},
          "execution_count": 44
        }
      ]
    },
    {
      "cell_type": "markdown",
      "source": [
        "p-значение pvalue больше уровня значимости 0,05. Гипотеза о нормальном распределении не отвергается."
      ],
      "metadata": {
        "id": "kHPi2RUnQTVX"
      }
    },
    {
      "cell_type": "code",
      "source": [
        "stats.jarque_bera(sample2)"
      ],
      "metadata": {
        "colab": {
          "base_uri": "https://localhost:8080/"
        },
        "id": "wC6U_SkNP3M6",
        "outputId": "c7672176-63bd-4e0b-ac51-26adcf99b9c3"
      },
      "execution_count": null,
      "outputs": [
        {
          "output_type": "execute_result",
          "data": {
            "text/plain": [
              "SignificanceResult(statistic=1.4418072385630827, pvalue=0.4863126158996849)"
            ]
          },
          "metadata": {},
          "execution_count": 45
        }
      ]
    },
    {
      "cell_type": "markdown",
      "source": [
        "p-значение pvalue больше уровня значимости 0,05. Гипотеза о нормальном распределении не отвергается."
      ],
      "metadata": {
        "id": "SjUfFyV7QUEq"
      }
    },
    {
      "cell_type": "code",
      "source": [
        "stats.kstest(sample2, 'norm', (np.mean(sample2), np.std(sample2)))"
      ],
      "metadata": {
        "colab": {
          "base_uri": "https://localhost:8080/"
        },
        "id": "HjTJL8jvP3G1",
        "outputId": "70c548c4-22ae-4695-b9d4-eced30cfa10f"
      },
      "execution_count": null,
      "outputs": [
        {
          "output_type": "execute_result",
          "data": {
            "text/plain": [
              "KstestResult(statistic=0.031603309388455736, pvalue=0.864476868232271, statistic_location=-8.241897962245275, statistic_sign=1)"
            ]
          },
          "metadata": {},
          "execution_count": 18
        }
      ]
    },
    {
      "cell_type": "markdown",
      "source": [
        "p-значение pvalue больше уровня значимости 0,05. Гипотеза о нормальном распределении не отвергается."
      ],
      "metadata": {
        "id": "4yEMpe2TQU0u"
      }
    },
    {
      "cell_type": "code",
      "source": [
        "stats.cramervonmises(sample2, 'norm', (np.mean(sample2), np.std(sample2)))"
      ],
      "metadata": {
        "colab": {
          "base_uri": "https://localhost:8080/"
        },
        "id": "OVDI7SgkP2yV",
        "outputId": "6c0a4670-7cca-431c-8431-932470caacf4"
      },
      "execution_count": null,
      "outputs": [
        {
          "output_type": "execute_result",
          "data": {
            "text/plain": [
              "CramerVonMisesResult(statistic=0.05621903734227946, pvalue=0.8380901881286084)"
            ]
          },
          "metadata": {},
          "execution_count": 19
        }
      ]
    },
    {
      "cell_type": "markdown",
      "source": [
        "p-значение pvalue больше уровня значимости 0,05. Гипотеза о нормальном распределении не отвергается."
      ],
      "metadata": {
        "id": "YCJH9x08QVgm"
      }
    },
    {
      "cell_type": "code",
      "source": [
        "stats.normaltest(sample2)"
      ],
      "metadata": {
        "colab": {
          "base_uri": "https://localhost:8080/"
        },
        "id": "bhWJf1nwP2pD",
        "outputId": "00166622-ba3d-4275-f609-1a55d62ebbba"
      },
      "execution_count": null,
      "outputs": [
        {
          "output_type": "execute_result",
          "data": {
            "text/plain": [
              "NormaltestResult(statistic=1.3438151279446247, pvalue=0.510733391350199)"
            ]
          },
          "metadata": {},
          "execution_count": 50
        }
      ]
    },
    {
      "cell_type": "markdown",
      "source": [
        "p-значение pvalue больше уровня значимости 0,05. Гипотеза о нормальном распределении не отвергается."
      ],
      "metadata": {
        "id": "-j2mVio6QWQE"
      }
    },
    {
      "cell_type": "markdown",
      "source": [
        "Все тесты показали, что для второй выборки гипотеза о нормальном распределении не отвергается."
      ],
      "metadata": {
        "id": "k_kQgxHpQv_8"
      }
    },
    {
      "cell_type": "markdown",
      "source": [
        "## Выборка 3"
      ],
      "metadata": {
        "id": "Ly6WMsuPPKKi"
      }
    },
    {
      "cell_type": "code",
      "source": [
        "stats.shapiro(sample3)"
      ],
      "metadata": {
        "colab": {
          "base_uri": "https://localhost:8080/"
        },
        "id": "af1QXSO0QmAW",
        "outputId": "80c6730e-fcf7-4b9a-ac9d-160ce3119e92"
      },
      "execution_count": null,
      "outputs": [
        {
          "output_type": "execute_result",
          "data": {
            "text/plain": [
              "ShapiroResult(statistic=0.9978649616241455, pvalue=0.9380601048469543)"
            ]
          },
          "metadata": {},
          "execution_count": 51
        }
      ]
    },
    {
      "cell_type": "markdown",
      "source": [
        "p-значение pvalue больше уровня значимости 0,05. Гипотеза о нормальном распределении не отвергается."
      ],
      "metadata": {
        "id": "3JBaSHxwQcYX"
      }
    },
    {
      "cell_type": "code",
      "source": [
        "stats.jarque_bera(sample3)"
      ],
      "metadata": {
        "colab": {
          "base_uri": "https://localhost:8080/"
        },
        "id": "-xTPGiJEQlo9",
        "outputId": "ef85fe32-92fa-4deb-a9ff-a57e22a36498"
      },
      "execution_count": null,
      "outputs": [
        {
          "output_type": "execute_result",
          "data": {
            "text/plain": [
              "SignificanceResult(statistic=0.46119890187207013, pvalue=0.7940574613175)"
            ]
          },
          "metadata": {},
          "execution_count": 52
        }
      ]
    },
    {
      "cell_type": "markdown",
      "source": [
        "p-значение pvalue больше уровня значимости 0,05. Гипотеза о нормальном распределении не отвергается."
      ],
      "metadata": {
        "id": "7ItrXzO1QcOE"
      }
    },
    {
      "cell_type": "code",
      "source": [
        "stats.kstest(sample3, 'norm', (np.mean(sample3), np.std(sample3)))"
      ],
      "metadata": {
        "colab": {
          "base_uri": "https://localhost:8080/"
        },
        "id": "UQR25CLoQkWF",
        "outputId": "83725f10-da6a-473e-9f92-3a86fe74b7e0"
      },
      "execution_count": null,
      "outputs": [
        {
          "output_type": "execute_result",
          "data": {
            "text/plain": [
              "KstestResult(statistic=0.02536000860480414, pvalue=0.9738091221072841, statistic_location=28.999980966327712, statistic_sign=1)"
            ]
          },
          "metadata": {},
          "execution_count": 20
        }
      ]
    },
    {
      "cell_type": "markdown",
      "source": [
        "p-значение pvalue больше уровня значимости 0,05. Гипотеза о нормальном распределении не отвергается."
      ],
      "metadata": {
        "id": "ZRs5fkcIQcEX"
      }
    },
    {
      "cell_type": "code",
      "source": [
        "stats.cramervonmises(sample3, 'norm', (np.mean(sample3), np.std(sample3)))"
      ],
      "metadata": {
        "colab": {
          "base_uri": "https://localhost:8080/"
        },
        "id": "SOZekTVXQh_G",
        "outputId": "3d28f2aa-c271-4485-c0cb-03d7ed13798b"
      },
      "execution_count": null,
      "outputs": [
        {
          "output_type": "execute_result",
          "data": {
            "text/plain": [
              "CramerVonMisesResult(statistic=0.03349967304768154, pvalue=0.9634976078592031)"
            ]
          },
          "metadata": {},
          "execution_count": 54
        }
      ]
    },
    {
      "cell_type": "markdown",
      "source": [
        "p-значение pvalue больше уровня значимости 0,05. Гипотеза о нормальном распределении не отвергается."
      ],
      "metadata": {
        "id": "pFh_55tqQb6m"
      }
    },
    {
      "cell_type": "code",
      "source": [
        "stats.normaltest(sample3)"
      ],
      "metadata": {
        "id": "lNtrzqEtQf0z",
        "colab": {
          "base_uri": "https://localhost:8080/"
        },
        "outputId": "14416543-aa0a-4258-ba34-f64498d31264"
      },
      "execution_count": null,
      "outputs": [
        {
          "output_type": "execute_result",
          "data": {
            "text/plain": [
              "NormaltestResult(statistic=0.4693685904896102, pvalue=0.7908204760073259)"
            ]
          },
          "metadata": {},
          "execution_count": 21
        }
      ]
    },
    {
      "cell_type": "markdown",
      "source": [
        "p-значение pvalue больше уровня значимости 0,05. Гипотеза о нормальном распределении не отвергается."
      ],
      "metadata": {
        "id": "fkFXA73pQbuQ"
      }
    },
    {
      "cell_type": "markdown",
      "source": [
        "Все тесты показали, что для третьей выборки гипотеза о нормальном распределении не отвергается."
      ],
      "metadata": {
        "id": "eezixsJNQugm"
      }
    },
    {
      "cell_type": "markdown",
      "source": [
        "## Выборка 4"
      ],
      "metadata": {
        "id": "Yi3xsruvPQMY"
      }
    },
    {
      "cell_type": "code",
      "source": [
        "stats.shapiro(sample4)"
      ],
      "metadata": {
        "colab": {
          "base_uri": "https://localhost:8080/"
        },
        "id": "ENdWFoG1c_z3",
        "outputId": "41032b32-a997-4512-e623-010917aee4ab"
      },
      "execution_count": null,
      "outputs": [
        {
          "output_type": "execute_result",
          "data": {
            "text/plain": [
              "ShapiroResult(statistic=0.9548825621604919, pvalue=6.922131312592228e-09)"
            ]
          },
          "metadata": {},
          "execution_count": 24
        }
      ]
    },
    {
      "cell_type": "markdown",
      "source": [
        "p-значение pvalue меньше уровня значимости 0,05, следовательно гипотеза о нормальном распределении отвергается с вероятностью возможной ошибки равной 0,05."
      ],
      "metadata": {
        "id": "MPa8xC81gHVn"
      }
    },
    {
      "cell_type": "code",
      "source": [
        "stats.jarque_bera(sample4)"
      ],
      "metadata": {
        "colab": {
          "base_uri": "https://localhost:8080/"
        },
        "id": "22WlJsVcdIbV",
        "outputId": "6849c99c-809c-41de-b5a9-626ddc610183"
      },
      "execution_count": null,
      "outputs": [
        {
          "output_type": "execute_result",
          "data": {
            "text/plain": [
              "SignificanceResult(statistic=21.074080025146273, pvalue=2.653515732943421e-05)"
            ]
          },
          "metadata": {},
          "execution_count": 25
        }
      ]
    },
    {
      "cell_type": "markdown",
      "source": [
        "p-значение pvalue меньше уровня значимости 0,05, следовательно гипотеза о нормальном распределении отвергается с вероятностью возможной ошибки равной 0,05."
      ],
      "metadata": {
        "id": "-fvqDKZ5i4TH"
      }
    },
    {
      "cell_type": "code",
      "source": [
        "stats.kstest(sample4, 'norm', (np.mean(sample4), np.std(sample4)))"
      ],
      "metadata": {
        "colab": {
          "base_uri": "https://localhost:8080/"
        },
        "id": "WhVCuNLAdPTe",
        "outputId": "cbe7a6a4-3df2-4cdc-dafa-cf2c10961111"
      },
      "execution_count": null,
      "outputs": [
        {
          "output_type": "execute_result",
          "data": {
            "text/plain": [
              "KstestResult(statistic=0.07309943486345671, pvalue=0.04513026516682561, statistic_location=15.173833429975279, statistic_sign=-1)"
            ]
          },
          "metadata": {},
          "execution_count": 22
        }
      ]
    },
    {
      "cell_type": "markdown",
      "source": [
        "p-значение pvalue меньше уровня значимости 0,05, следовательно гипотеза о нормальном распределении отвергается с вероятностью возможной ошибки равной 0,05."
      ],
      "metadata": {
        "id": "w95EqSI_h2ci"
      }
    },
    {
      "cell_type": "code",
      "source": [
        "stats.cramervonmises(sample4, 'norm', (np.mean(sample4), np.std(sample4)))"
      ],
      "metadata": {
        "colab": {
          "base_uri": "https://localhost:8080/"
        },
        "id": "s6mRFH_WdO80",
        "outputId": "2fd3f8f1-167d-4653-c1b6-de7f4061e7ed"
      },
      "execution_count": null,
      "outputs": [
        {
          "output_type": "execute_result",
          "data": {
            "text/plain": [
              "CramerVonMisesResult(statistic=0.5943767338180569, pvalue=0.023052976654302393)"
            ]
          },
          "metadata": {},
          "execution_count": 59
        }
      ]
    },
    {
      "cell_type": "markdown",
      "source": [
        "p-значение pvalue меньше уровня значимости 0,05, следовательно гипотеза о нормальном распределении отвергается с вероятностью возможной ошибки равной 0,05."
      ],
      "metadata": {
        "id": "k2v1rqhHimxA"
      }
    },
    {
      "cell_type": "code",
      "source": [
        "stats.normaltest(sample4)"
      ],
      "metadata": {
        "colab": {
          "base_uri": "https://localhost:8080/"
        },
        "id": "-1aG7xfIfq3W",
        "outputId": "e05763d8-5a71-4942-d6d5-a8ec9143bb1c"
      },
      "execution_count": null,
      "outputs": [
        {
          "output_type": "execute_result",
          "data": {
            "text/plain": [
              "NormaltestResult(statistic=189.4873234321092, pvalue=7.13428609881657e-42)"
            ]
          },
          "metadata": {},
          "execution_count": 23
        }
      ]
    },
    {
      "cell_type": "markdown",
      "source": [
        "p-значение pvalue меньше уровня значимости 0,05, следовательно гипотеза о нормальном распределении отвергается с вероятностью возможной ошибки равной 0,05."
      ],
      "metadata": {
        "id": "KXvmDv0Tio1p"
      }
    },
    {
      "cell_type": "markdown",
      "source": [
        "4 теста показали, что для четвертой выборки гипотеза о нормальном распределении отвергается."
      ],
      "metadata": {
        "id": "S-MLrr-41uLR"
      }
    },
    {
      "cell_type": "markdown",
      "source": [
        "## Итоги исследования"
      ],
      "metadata": {
        "id": "62HkxSpdSy7G"
      }
    },
    {
      "cell_type": "markdown",
      "source": [
        "Анализ диаграмм и квантильных графиков показал, что для 3 первых генеральных совокупностей нормальное распределение подходит для описания исследуемого показателя, для четвертой генеральной совокупности нормальное распределение не подходит дяя описания исследуемого показателя.\n"
      ],
      "metadata": {
        "id": "0u8iaVZITPMv"
      }
    },
    {
      "cell_type": "markdown",
      "source": [
        "Тесты показали, что для трёх первых генеральных совокупностей гипотеза о нормальном распределении не отвергается, а для четвёртой генеральной совокупности гипотеза о нормальном распределении отвергается."
      ],
      "metadata": {
        "id": "h_TCOQvGTu30"
      }
    },
    {
      "cell_type": "markdown",
      "source": [
        "Анализ диаграмм и резултаты тестов показывают, что для первых 3 генеральных совокупностей нормальное распределение подходит для описания исследуемого показателя, а для 4-ой не подходи."
      ],
      "metadata": {
        "id": "zwHHkfaGXful"
      }
    },
    {
      "cell_type": "markdown",
      "source": [
        "# Заключение"
      ],
      "metadata": {
        "id": "N-5zNlmiUC8O"
      }
    },
    {
      "cell_type": "markdown",
      "source": [
        "Цель работы — проверить гипотезу о нормальности распределения исследуемого\n",
        "признака генеральной совокупности."
      ],
      "metadata": {
        "id": "v2DoCWnbYqPq"
      }
    },
    {
      "cell_type": "markdown",
      "source": [
        "Была проведена проверка гипотезы о нормальном распределении. Были использованы библиотеки: pandas, matplotlib.pyplot, scipy.stats, numpy."
      ],
      "metadata": {
        "id": "w0JHhbVvUMuH"
      }
    },
    {
      "cell_type": "markdown",
      "source": [
        "Использованные инструменты: диаграммы и квантильные графики, тесты Шапиро-Уилка, Колмогорова-Смирнова, Крамера-Майзеса, Харке-Бера и Д'Агостино. Использовались, соответственно, функции shapiro, jarque_bera, kstest, cramevonmises и normaltest пакета stats."
      ],
      "metadata": {
        "id": "cUiMHq-UYQ41"
      }
    },
    {
      "cell_type": "markdown",
      "source": [
        "По итогам анализа диаграмм и тестов можно сказать:\n",
        "\n",
        "Для трёх первых генеральных совокупностей нормальное распределение подходит для описания исследуемого показателя, для четвертой генеральной совокупности нормальное распределение не подходит для описания исследуемого показателя.\n",
        "\n",
        "Для трёх первых генеральных совокупностей гипотеза о нормальном распределении не отвергается, а для четвёртой генеральной совокупности гипотеза о нормальном распределении отвергается."
      ],
      "metadata": {
        "id": "T5TtHsAQVn_V"
      }
    }
  ]
}